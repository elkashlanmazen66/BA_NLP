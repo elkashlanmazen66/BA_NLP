{
 "cells": [
  {
   "cell_type": "code",
   "id": "initial_id",
   "metadata": {
    "collapsed": true,
    "ExecuteTime": {
     "end_time": "2025-09-03T11:25:20.597907Z",
     "start_time": "2025-09-03T11:25:15.326989Z"
    }
   },
   "source": [
    "import spacy\n",
    "nlp = spacy.load(\"en_core_web_sm\")\n",
    "import collections"
   ],
   "outputs": [],
   "execution_count": 1
  },
  {
   "metadata": {
    "ExecuteTime": {
     "end_time": "2025-09-03T11:26:22.849832Z",
     "start_time": "2025-09-03T11:26:22.824149Z"
    }
   },
   "cell_type": "code",
   "source": [
    "#step1: Create the object 'doc' for the given text using nlp()\n",
    "#step2: define the variables to keep track of stopwords count and total words count\n",
    "#step3: iterate through all the words in the document\n",
    "#step4: print the count of stop words\n",
    "#step5: print the percentage of stop words compared to total words in the text\n",
    "text = '''\n",
    "Thor: Love and Thunder is a 2022 American superhero film based on Marvel Comics featuring the character Thor, produced by Marvel Studios and\n",
    "distributed by Walt Disney Studios Motion Pictures. It is the sequel to Thor: Ragnarok (2017) and the 29th film in the Marvel Cinematic Universe (MCU).\n",
    "The film is directed by Taika Waititi, who co-wrote the script with Jennifer Kaytin Robinson, and stars Chris Hemsworth as Thor alongside Christian Bale, Tessa Thompson,\n",
    "Jaimie Alexander, Waititi, Russell Crowe, and Natalie Portman. In the film, Thor attempts to find inner peace, but must return to action and recruit Valkyrie (Thompson),\n",
    "Korg (Waititi), and Jane Foster (Portman)—who is now the Mighty Thor—to stop Gorr the God Butcher (Bale) from eliminating all gods.\n",
    "'''\n",
    "def total_words(text):\n",
    "    count=0\n",
    "    for i in nlp(text):\n",
    "        count+=1\n",
    "    return count\n",
    "\n",
    "def remove_no_and_stop_words(text):\n",
    "    non_stop_words_list=[]\n",
    "    for token in nlp(text):\n",
    "        if token.text.lower()==\"not\":\n",
    "            non_stop_words_list.append(token.text)\n",
    "        elif not token.is_stop:\n",
    "            non_stop_words_list.append(token.text)\n",
    "    filtered=\" \".join(non_stop_words_list)\n",
    "    return filtered\n",
    "\n",
    "def count_stop_words(text):\n",
    "    count=0\n",
    "    for token in nlp(text):\n",
    "        if token.is_stop:\n",
    "            count+=1\n",
    "    return count\n",
    "\n",
    "def text_after_removing_stop_words(text):\n",
    "    non_stop_words_list=[token.text for token in nlp(text) if not token.is_stop]\n",
    "    non_stop_text=\" \".join(non_stop_words_list)\n",
    "    return non_stop_text"
   ],
   "id": "fd961dcecbc67e39",
   "outputs": [],
   "execution_count": 2
  },
  {
   "metadata": {
    "ExecuteTime": {
     "end_time": "2025-09-03T11:26:26.447446Z",
     "start_time": "2025-09-03T11:26:25.806926Z"
    }
   },
   "cell_type": "code",
   "source": [
    "print(\"Length of text before cleaning:\",total_words(text))\n",
    "print(\"Length of words:\",count_stop_words(text))\n",
    "percentage_of_stop_word=round(count_stop_words(text)/total_words(text)*100,2)\n",
    "print(f\"percentage of stop words: {percentage_of_stop_word}%\")\n",
    "text_after_stop_words_count=total_words(text_after_removing_stop_words(text))\n",
    "print(\"Length after removing stop words:\",text_after_stop_words_count)"
   ],
   "id": "9ceaf5e4f70d9b92",
   "outputs": [
    {
     "name": "stdout",
     "output_type": "stream",
     "text": [
      "Length of text before cleaning: 160\n",
      "Length of words: 40\n",
      "percentage of stop words: 25.0%\n",
      "Length after removing stop words: 120\n"
     ]
    }
   ],
   "execution_count": 3
  },
  {
   "metadata": {
    "ExecuteTime": {
     "end_time": "2025-09-03T11:26:28.857549Z",
     "start_time": "2025-09-03T11:26:28.801179Z"
    }
   },
   "cell_type": "code",
   "source": [
    "#Now, your task is to remove this stop word \"not\" in spaCy and help in distinguishing the texts.\n",
    "text_no_stop_removed=remove_no_and_stop_words(text)\n",
    "print(text_no_stop_removed)\n",
    "print(total_words(text_no_stop_removed))"
   ],
   "id": "7d969fec9a486ca4",
   "outputs": [
    {
     "name": "stdout",
     "output_type": "stream",
     "text": [
      "\n",
      " Thor : Love Thunder 2022 American superhero film based Marvel Comics featuring character Thor , produced Marvel Studios \n",
      " distributed Walt Disney Studios Motion Pictures . sequel Thor : Ragnarok ( 2017 ) 29th film Marvel Cinematic Universe ( MCU ) . \n",
      " film directed Taika Waititi , co - wrote script Jennifer Kaytin Robinson , stars Chris Hemsworth Thor alongside Christian Bale , Tessa Thompson , \n",
      " Jaimie Alexander , Waititi , Russell Crowe , Natalie Portman . film , Thor attempts find inner peace , return action recruit Valkyrie ( Thompson ) , \n",
      " Korg ( Waititi ) , Jane Foster ( Portman)—who Mighty Thor — stop Gorr God Butcher ( Bale ) eliminating gods . \n",
      "\n",
      "120\n"
     ]
    }
   ],
   "execution_count": 4
  },
  {
   "metadata": {
    "ExecuteTime": {
     "end_time": "2025-09-03T11:26:31.560814Z",
     "start_time": "2025-09-03T11:26:31.485219Z"
    }
   },
   "cell_type": "code",
   "source": [
    "text1=\"not a chance!\"\n",
    "text2=\"There is no way\"\n",
    "print(\"without not included:\",total_words(text_after_removing_stop_words(text1)))\n",
    "print(\"with not included:\",total_words(remove_no_and_stop_words(text1)))\n",
    "print(\"without not included:\",total_words(text_after_removing_stop_words(text2)))\n",
    "print(\"with not included:\",total_words(remove_no_and_stop_words(text2)))\n"
   ],
   "id": "594a4596a8cc454b",
   "outputs": [
    {
     "name": "stdout",
     "output_type": "stream",
     "text": [
      "without not included: 2\n",
      "with not included: 3\n",
      "without not included: 1\n",
      "with not included: 1\n"
     ]
    }
   ],
   "execution_count": 5
  },
  {
   "metadata": {
    "ExecuteTime": {
     "end_time": "2025-09-03T11:34:13.721174Z",
     "start_time": "2025-09-03T11:34:13.690485Z"
    }
   },
   "cell_type": "code",
   "source": [
    "text_new = ''' The India men's national cricket team, also known as Team India or the Men in Blue, represents India in men's international cricket.\n",
    "It is governed by the Board of Control for Cricket in India (BCCI), and is a Full Member of the International Cricket Council (ICC) with Test,\n",
    "One Day International (ODI) and Twenty20 International (T20I) status. Cricket was introduced to India by British sailors in the 18th century, and the\n",
    "first cricket club was established in 1792. India's national cricket team played its first Test match on 25 June 1932 at Lord's, becoming the sixth team to be\n",
    "granted test cricket status.\n",
    "'''\n",
    "\n",
    "#step1: Create the object 'doc' for the given text using nlp()\n",
    "#step2: remove all the stop words and punctuations and store all the remaining tokens in a new list\n",
    "#step3: create a new dictionary and get the frequency of words by iterating through the list which contains stored tokens\n",
    "#step4: get the maximum frequency word\n",
    "doc=nlp(text_new)\n",
    "\n",
    "def remove_stop_punct(nlp_text):\n",
    "    filtered_no_stop_punct=[token.text for token in nlp_text if not token.is_stop and not token.is_punct]\n",
    "    return filtered_no_stop_punct\n",
    "\n",
    "def freq_of_list(list):\n",
    "    words_used=[]\n",
    "    a={}\n",
    "    for i in list:\n",
    "        if i not in words_used:\n",
    "            a[i]=list.count(i)\n",
    "            words_used.append(i)\n",
    "    return a\n",
    "\n",
    "def most_frequent(dict):\n",
    "    word=\"\"\n",
    "    count=-1\n",
    "    for k,i in dict.items():\n",
    "        if i>count:\n",
    "            count=i\n",
    "            word=k\n",
    "    return (f\"Most frequent: {word} with freq of {count}\")\n",
    "\n",
    "\n",
    "text_filtered=remove_stop_punct(doc)\n",
    "dict_of_text_filtered=freq_of_list(text_filtered)\n",
    "print(dict_of_text_filtered,\"\\n\")\n",
    "print(most_frequent(dict_of_text_filtered))\n"
   ],
   "id": "faecbfd1523e8a96",
   "outputs": [
    {
     "name": "stdout",
     "output_type": "stream",
     "text": [
      "{' ': 1, 'India': 6, 'men': 2, 'national': 2, 'cricket': 5, 'team': 3, 'known': 1, 'Team': 1, 'Men': 1, 'Blue': 1, 'represents': 1, 'international': 1, '\\n': 5, 'governed': 1, 'Board': 1, 'Control': 1, 'Cricket': 3, 'BCCI': 1, 'Member': 1, 'International': 3, 'Council': 1, 'ICC': 1, 'Test': 2, 'Day': 1, 'ODI': 1, 'Twenty20': 1, 'T20I': 1, 'status': 2, 'introduced': 1, 'British': 1, 'sailors': 1, '18th': 1, 'century': 1, 'club': 1, 'established': 1, '1792': 1, 'played': 1, 'match': 1, '25': 1, 'June': 1, '1932': 1, 'Lord': 1, 'sixth': 1, 'granted': 1, 'test': 1} \n",
      "\n",
      "Most frequent: India with freq of 6\n"
     ]
    }
   ],
   "execution_count": 11
  }
 ],
 "metadata": {
  "kernelspec": {
   "display_name": "Python 3",
   "language": "python",
   "name": "python3"
  },
  "language_info": {
   "codemirror_mode": {
    "name": "ipython",
    "version": 2
   },
   "file_extension": ".py",
   "mimetype": "text/x-python",
   "name": "python",
   "nbconvert_exporter": "python",
   "pygments_lexer": "ipython2",
   "version": "2.7.6"
  }
 },
 "nbformat": 4,
 "nbformat_minor": 5
}
