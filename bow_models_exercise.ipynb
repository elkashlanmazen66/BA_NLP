{
 "cells": [
  {
   "cell_type": "code",
   "id": "initial_id",
   "metadata": {
    "collapsed": true,
    "ExecuteTime": {
     "end_time": "2025-09-02T15:27:53.240470Z",
     "start_time": "2025-09-02T15:27:52.108900Z"
    }
   },
   "source": [
    "import kagglehub\n",
    "import pandas as pd\n",
    "import numpy as np\n",
    "from BOW import y_train, x_train_cv\n",
    "from sklearn.model_selection import train_test_split\n",
    "from sklearn.feature_extraction.text import CountVectorizer\n",
    "from sklearn.ensemble import RandomForestClassifier\n",
    "from  sklearn.neighbors import KNeighborsClassifier\n",
    "from sklearn.naive_bayes import MultinomialNB\n",
    "from sklearn.pipeline import Pipeline\n",
    "from sklearn.metrics import classification_report"
   ],
   "outputs": [],
   "execution_count": 3
  },
  {
   "metadata": {
    "ExecuteTime": {
     "end_time": "2025-09-02T15:28:07.195961Z",
     "start_time": "2025-09-02T15:28:06.648487Z"
    }
   },
   "cell_type": "code",
   "source": [
    "#1. read the data provided in the same directory with name 'movies_sentiment_data.csv' and store it in df variable\n",
    "#2. print the shape of the data\n",
    "df=pd.read_csv(\"IMDB Dataset.csv\")\n",
    "df.shape"
   ],
   "id": "57ec1fd6b8948043",
   "outputs": [
    {
     "data": {
      "text/plain": [
       "(50000, 2)"
      ]
     },
     "execution_count": 4,
     "metadata": {},
     "output_type": "execute_result"
    }
   ],
   "execution_count": 4
  },
  {
   "metadata": {
    "ExecuteTime": {
     "end_time": "2025-09-02T15:28:20.001379Z",
     "start_time": "2025-09-02T15:28:19.991904Z"
    }
   },
   "cell_type": "code",
   "source": [
    "#3. print top 5 datapoints\n",
    "df.head()"
   ],
   "id": "75a768df20ddafda",
   "outputs": [
    {
     "data": {
      "text/plain": [
       "                                              review sentiment\n",
       "0  One of the other reviewers has mentioned that ...  positive\n",
       "1  A wonderful little production. <br /><br />The...  positive\n",
       "2  I thought this was a wonderful way to spend ti...  positive\n",
       "3  Basically there's a family where a little boy ...  negative\n",
       "4  Petter Mattei's \"Love in the Time of Money\" is...  positive"
      ],
      "text/html": [
       "<div>\n",
       "<style scoped>\n",
       "    .dataframe tbody tr th:only-of-type {\n",
       "        vertical-align: middle;\n",
       "    }\n",
       "\n",
       "    .dataframe tbody tr th {\n",
       "        vertical-align: top;\n",
       "    }\n",
       "\n",
       "    .dataframe thead th {\n",
       "        text-align: right;\n",
       "    }\n",
       "</style>\n",
       "<table border=\"1\" class=\"dataframe\">\n",
       "  <thead>\n",
       "    <tr style=\"text-align: right;\">\n",
       "      <th></th>\n",
       "      <th>review</th>\n",
       "      <th>sentiment</th>\n",
       "    </tr>\n",
       "  </thead>\n",
       "  <tbody>\n",
       "    <tr>\n",
       "      <th>0</th>\n",
       "      <td>One of the other reviewers has mentioned that ...</td>\n",
       "      <td>positive</td>\n",
       "    </tr>\n",
       "    <tr>\n",
       "      <th>1</th>\n",
       "      <td>A wonderful little production. &lt;br /&gt;&lt;br /&gt;The...</td>\n",
       "      <td>positive</td>\n",
       "    </tr>\n",
       "    <tr>\n",
       "      <th>2</th>\n",
       "      <td>I thought this was a wonderful way to spend ti...</td>\n",
       "      <td>positive</td>\n",
       "    </tr>\n",
       "    <tr>\n",
       "      <th>3</th>\n",
       "      <td>Basically there's a family where a little boy ...</td>\n",
       "      <td>negative</td>\n",
       "    </tr>\n",
       "    <tr>\n",
       "      <th>4</th>\n",
       "      <td>Petter Mattei's \"Love in the Time of Money\" is...</td>\n",
       "      <td>positive</td>\n",
       "    </tr>\n",
       "  </tbody>\n",
       "</table>\n",
       "</div>"
      ]
     },
     "execution_count": 5,
     "metadata": {},
     "output_type": "execute_result"
    }
   ],
   "execution_count": 5
  },
  {
   "metadata": {
    "ExecuteTime": {
     "end_time": "2025-09-02T15:29:23.167993Z",
     "start_time": "2025-09-02T15:29:23.141651Z"
    }
   },
   "cell_type": "code",
   "source": [
    "#creating a new column \"Category\" which represent 1 if the sentiment is positive or 0 if it is negative\n",
    "df[\"Category\"]=df.sentiment.apply(lambda x:1 if x==\"positive\" else 0)\n",
    "df"
   ],
   "id": "b4793144e72573e8",
   "outputs": [
    {
     "data": {
      "text/plain": [
       "                                                  review sentiment  Category\n",
       "0      One of the other reviewers has mentioned that ...  positive         1\n",
       "1      A wonderful little production. <br /><br />The...  positive         1\n",
       "2      I thought this was a wonderful way to spend ti...  positive         1\n",
       "3      Basically there's a family where a little boy ...  negative         0\n",
       "4      Petter Mattei's \"Love in the Time of Money\" is...  positive         1\n",
       "...                                                  ...       ...       ...\n",
       "49995  I thought this movie did a down right good job...  positive         1\n",
       "49996  Bad plot, bad dialogue, bad acting, idiotic di...  negative         0\n",
       "49997  I am a Catholic taught in parochial elementary...  negative         0\n",
       "49998  I'm going to have to disagree with the previou...  negative         0\n",
       "49999  No one expects the Star Trek movies to be high...  negative         0\n",
       "\n",
       "[50000 rows x 3 columns]"
      ],
      "text/html": [
       "<div>\n",
       "<style scoped>\n",
       "    .dataframe tbody tr th:only-of-type {\n",
       "        vertical-align: middle;\n",
       "    }\n",
       "\n",
       "    .dataframe tbody tr th {\n",
       "        vertical-align: top;\n",
       "    }\n",
       "\n",
       "    .dataframe thead th {\n",
       "        text-align: right;\n",
       "    }\n",
       "</style>\n",
       "<table border=\"1\" class=\"dataframe\">\n",
       "  <thead>\n",
       "    <tr style=\"text-align: right;\">\n",
       "      <th></th>\n",
       "      <th>review</th>\n",
       "      <th>sentiment</th>\n",
       "      <th>Category</th>\n",
       "    </tr>\n",
       "  </thead>\n",
       "  <tbody>\n",
       "    <tr>\n",
       "      <th>0</th>\n",
       "      <td>One of the other reviewers has mentioned that ...</td>\n",
       "      <td>positive</td>\n",
       "      <td>1</td>\n",
       "    </tr>\n",
       "    <tr>\n",
       "      <th>1</th>\n",
       "      <td>A wonderful little production. &lt;br /&gt;&lt;br /&gt;The...</td>\n",
       "      <td>positive</td>\n",
       "      <td>1</td>\n",
       "    </tr>\n",
       "    <tr>\n",
       "      <th>2</th>\n",
       "      <td>I thought this was a wonderful way to spend ti...</td>\n",
       "      <td>positive</td>\n",
       "      <td>1</td>\n",
       "    </tr>\n",
       "    <tr>\n",
       "      <th>3</th>\n",
       "      <td>Basically there's a family where a little boy ...</td>\n",
       "      <td>negative</td>\n",
       "      <td>0</td>\n",
       "    </tr>\n",
       "    <tr>\n",
       "      <th>4</th>\n",
       "      <td>Petter Mattei's \"Love in the Time of Money\" is...</td>\n",
       "      <td>positive</td>\n",
       "      <td>1</td>\n",
       "    </tr>\n",
       "    <tr>\n",
       "      <th>...</th>\n",
       "      <td>...</td>\n",
       "      <td>...</td>\n",
       "      <td>...</td>\n",
       "    </tr>\n",
       "    <tr>\n",
       "      <th>49995</th>\n",
       "      <td>I thought this movie did a down right good job...</td>\n",
       "      <td>positive</td>\n",
       "      <td>1</td>\n",
       "    </tr>\n",
       "    <tr>\n",
       "      <th>49996</th>\n",
       "      <td>Bad plot, bad dialogue, bad acting, idiotic di...</td>\n",
       "      <td>negative</td>\n",
       "      <td>0</td>\n",
       "    </tr>\n",
       "    <tr>\n",
       "      <th>49997</th>\n",
       "      <td>I am a Catholic taught in parochial elementary...</td>\n",
       "      <td>negative</td>\n",
       "      <td>0</td>\n",
       "    </tr>\n",
       "    <tr>\n",
       "      <th>49998</th>\n",
       "      <td>I'm going to have to disagree with the previou...</td>\n",
       "      <td>negative</td>\n",
       "      <td>0</td>\n",
       "    </tr>\n",
       "    <tr>\n",
       "      <th>49999</th>\n",
       "      <td>No one expects the Star Trek movies to be high...</td>\n",
       "      <td>negative</td>\n",
       "      <td>0</td>\n",
       "    </tr>\n",
       "  </tbody>\n",
       "</table>\n",
       "<p>50000 rows × 3 columns</p>\n",
       "</div>"
      ]
     },
     "execution_count": 6,
     "metadata": {},
     "output_type": "execute_result"
    }
   ],
   "execution_count": 6
  },
  {
   "metadata": {
    "ExecuteTime": {
     "end_time": "2025-09-02T15:32:27.882341Z",
     "start_time": "2025-09-02T15:32:27.850944Z"
    }
   },
   "cell_type": "code",
   "source": [
    "##check the distribution of 'Category' and see whether the Target labels are balanced or not.\n",
    "df.Category.value_counts()"
   ],
   "id": "74f8978e187d7b3b",
   "outputs": [
    {
     "data": {
      "text/plain": [
       "Category\n",
       "1    25000\n",
       "0    25000\n",
       "Name: count, dtype: int64"
      ]
     },
     "execution_count": 10,
     "metadata": {},
     "output_type": "execute_result"
    }
   ],
   "execution_count": 10
  },
  {
   "metadata": {
    "ExecuteTime": {
     "end_time": "2025-09-02T15:32:45.157481Z",
     "start_time": "2025-09-02T15:32:45.153850Z"
    }
   },
   "cell_type": "code",
   "source": "print(\"Balanced\")",
   "id": "28b3023440903b1d",
   "outputs": [
    {
     "name": "stdout",
     "output_type": "stream",
     "text": [
      "Balanced\n"
     ]
    }
   ],
   "execution_count": 11
  },
  {
   "metadata": {
    "ExecuteTime": {
     "end_time": "2025-09-02T15:35:30.354331Z",
     "start_time": "2025-09-02T15:35:30.343959Z"
    }
   },
   "cell_type": "code",
   "source": "x_train,x_test,y_train,y_test=train_test_split(df[\"review\"],df[\"Category\"],test_size=0.2)",
   "id": "d05879c9e14595a8",
   "outputs": [],
   "execution_count": 13
  },
  {
   "metadata": {
    "ExecuteTime": {
     "end_time": "2025-09-02T16:26:11.663901Z",
     "start_time": "2025-09-02T16:24:29.806614Z"
    }
   },
   "cell_type": "code",
   "source": [
    "#use CountVectorizer for pre-processing the text.\n",
    "#use Random Forest as the classifier with estimators as 50 and criterion as entropy.\n",
    "#1. create a pipeline object\n",
    "#2. fit with X_train and y_train\n",
    "#3. get the predictions for X_test and store it in y_pred\n",
    "#4. print the classfication report\n",
    "clf = Pipeline([\n",
    "    ('vectorizer', CountVectorizer()),\n",
    "    ('nb', RandomForestClassifier(n_estimators=50,criterion='entropy'))\n",
    "])\n",
    "clf.fit(x_train,y_train)\n",
    "y_pred=clf.predict(x_test)\n",
    "print(classification_report(y_test,y_pred))"
   ],
   "id": "64b07a3e53a7feb8",
   "outputs": [
    {
     "name": "stdout",
     "output_type": "stream",
     "text": [
      "              precision    recall  f1-score   support\n",
      "\n",
      "           0       0.83      0.84      0.84      4982\n",
      "           1       0.84      0.83      0.84      5018\n",
      "\n",
      "    accuracy                           0.84     10000\n",
      "   macro avg       0.84      0.84      0.84     10000\n",
      "weighted avg       0.84      0.84      0.84     10000\n",
      "\n"
     ]
    }
   ],
   "execution_count": 22
  },
  {
   "metadata": {
    "ExecuteTime": {
     "end_time": "2025-09-02T16:52:51.368560Z",
     "start_time": "2025-09-02T16:52:02.449388Z"
    }
   },
   "cell_type": "code",
   "source": [
    "#use CountVectorizer for pre-processing the text.\n",
    "#use KNN as the classifier with n_neighbors of 10 and metric as 'euclidean'.\n",
    "#print the classification report.\n",
    "#1. create a pipeline object\n",
    "#2. fit with X_train and y_train\n",
    "#3. get the predictions for X_test and store it in y_pred\n",
    "#4. print the classfication report\n",
    "clf_knn = Pipeline([\n",
    "    ('vectorizer', CountVectorizer()),\n",
    "    ('nb', KNeighborsClassifier(n_neighbors=10,metric='euclidean'))\n",
    "])\n",
    "clf_knn.fit(x_train,y_train)\n",
    "y_pred_knn=clf_knn.predict(x_test)\n",
    "print(classification_report(y_test,y_pred_knn))"
   ],
   "id": "c385a942f289c694",
   "outputs": [
    {
     "name": "stdout",
     "output_type": "stream",
     "text": [
      "              precision    recall  f1-score   support\n",
      "\n",
      "           0       0.65      0.65      0.65      4982\n",
      "           1       0.65      0.66      0.65      5018\n",
      "\n",
      "    accuracy                           0.65     10000\n",
      "   macro avg       0.65      0.65      0.65     10000\n",
      "weighted avg       0.65      0.65      0.65     10000\n",
      "\n"
     ]
    }
   ],
   "execution_count": 24
  },
  {
   "metadata": {
    "ExecuteTime": {
     "end_time": "2025-09-02T16:55:42.613648Z",
     "start_time": "2025-09-02T16:55:34.452472Z"
    }
   },
   "cell_type": "code",
   "source": [
    "#use CountVectorizer for pre-processing the text.\n",
    "#use Multinomial Naive Bayes as the classifier.\n",
    "#print the classification report.\n",
    "#1. create a pipeline object\n",
    "#2. fit with X_train and y_train\n",
    "#3. get the predictions for X_test and store it in y_pred\n",
    "#4. print the classfication report\n",
    "clf_bayes= Pipeline([\n",
    "    ('vectorizer', CountVectorizer()),\n",
    "    ('nb', MultinomialNB())\n",
    "])\n",
    "clf_bayes.fit(x_train, y_train)\n",
    "y_pred_bayes= clf_bayes.predict(x_test)\n",
    "print(classification_report(y_test, y_pred_bayes))"
   ],
   "id": "40322155a482ecc3",
   "outputs": [
    {
     "name": "stdout",
     "output_type": "stream",
     "text": [
      "              precision    recall  f1-score   support\n",
      "\n",
      "           0       0.83      0.87      0.85      4982\n",
      "           1       0.87      0.82      0.84      5018\n",
      "\n",
      "    accuracy                           0.85     10000\n",
      "   macro avg       0.85      0.85      0.85     10000\n",
      "weighted avg       0.85      0.85      0.85     10000\n",
      "\n"
     ]
    }
   ],
   "execution_count": 25
  },
  {
   "metadata": {},
   "cell_type": "code",
   "outputs": [],
   "execution_count": null,
   "source": "",
   "id": "f2bb43d85664be6e"
  }
 ],
 "metadata": {
  "kernelspec": {
   "display_name": "Python 3",
   "language": "python",
   "name": "python3"
  },
  "language_info": {
   "codemirror_mode": {
    "name": "ipython",
    "version": 2
   },
   "file_extension": ".py",
   "mimetype": "text/x-python",
   "name": "python",
   "nbconvert_exporter": "python",
   "pygments_lexer": "ipython2",
   "version": "2.7.6"
  }
 },
 "nbformat": 4,
 "nbformat_minor": 5
}
