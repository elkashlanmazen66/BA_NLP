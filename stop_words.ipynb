{
 "cells": [
  {
   "cell_type": "code",
   "id": "initial_id",
   "metadata": {
    "collapsed": true,
    "ExecuteTime": {
     "end_time": "2025-09-02T18:42:53.451898Z",
     "start_time": "2025-09-02T18:42:53.447992Z"
    }
   },
   "source": [
    "import spacy\n",
    "import pandas as pd\n",
    "from spacy.lang.en.stop_words import STOP_WORDS\n",
    "print(STOP_WORDS)"
   ],
   "outputs": [
    {
     "name": "stdout",
     "output_type": "stream",
     "text": [
      "{'using', 'such', 'a', 'please', 'regarding', 'about', 'anything', 'go', 'n’t', 'myself', 'yet', 'ever', 'anyhow', 'whereby', 'above', 'at', 'himself', 'wherein', 'themselves', 'six', 'own', 'often', 'are', 'an', 'nor', '‘ll', 'thereby', 'onto', 'give', 'whereupon', 'last', 'everything', 'made', 'have', 'therein', 'whereafter', 'him', 'than', 'across', 'where', 'would', 'of', 'really', 'anyone', 'this', 'wherever', 'anyway', 'within', 'your', 'empty', 'her', 'am', 'up', 'their', 'put', 'done', 'what', 'we', 'under', 'several', 'get', 'nine', 'per', \"'ve\", 'also', '’re', 'his', 'i', 'even', 'thereafter', 'another', 'since', 'namely', 'indeed', 'us', 'and', 'serious', 'hundred', 'has', 'just', 'few', 'behind', 'see', 'my', 'among', \"'d\", 'quite', 'seemed', 're', 'twelve', 'everyone', 'each', 'many', 'one', 'that', 'with', 'almost', \"n't\", 'due', 'alone', 'top', 'none', 'those', 'against', 'he', 'elsewhere', 'enough', 'although', 'by', 'whoever', 'thereupon', 'still', 'in', 'all', 'seeming', 'latterly', 'anywhere', 'mostly', 'now', 'though', 'ours', \"'m\", 'might', 'hereby', 'once', 'sixty', 'then', 'whenever', 'perhaps', 'for', 'not', 'first', 'amount', 'fifteen', 'again', 'when', \"'ll\", 'be', 'yourselves', 'beyond', '‘d', 'our', 'further', 'together', 'move', 'various', 'therefore', '’ve', 'never', 'show', 'over', 'call', 'between', 'it', 'beforehand', 'whereas', 'somehow', '‘m', 'them', 'yourself', 'amongst', '’m', 'herself', 'latter', 'keep', '‘s', 'towards', 'below', 'meanwhile', 'n‘t', 'thence', 'whom', 'doing', 'does', 'herein', 'seem', 'back', 'sometime', 'say', 'whole', 'toward', 'me', 'some', 'is', 'only', 'next', 'upon', 'ten', 'thru', 'hence', 'out', 'hers', 'rather', 'however', 'these', 'every', 'beside', 'was', 'throughout', 'were', 'more', 'she', 'very', 'should', 'so', 'take', 'no', '‘ve', 'become', 'fifty', 'cannot', 'how', 'during', 'on', 'why', 'may', 'front', 'without', 'there', 'but', 'after', 'same', 'they', 'part', 'hereafter', 'off', 'while', 'two', 'whatever', 'forty', 'who', '’d', 'used', 'formerly', 'as', 'other', 'eleven', 'most', 'becomes', 'sometimes', '‘re', 'already', 'someone', 'twenty', 'nowhere', 'neither', 'if', 'name', 'bottom', 'nevertheless', 'nobody', \"'s\", 'through', 'being', 'least', 'less', 'both', 'the', 'somewhere', 'before', 'became', 'otherwise', 'third', 'whether', 'always', 'along', 'noone', 'becoming', 'unless', \"'re\", 'three', 'whither', 'yours', 'had', 'side', 'ourselves', 'former', 'into', 'until', 'whose', 'around', 'well', 'much', 'must', 'hereupon', 'besides', 'nothing', 'because', 'five', 'afterwards', 'others', 'via', 'here', 'moreover', 'make', 'you', 'down', 'itself', 'do', 'eight', 'something', '’ll', 'its', 'mine', 'too', 'everywhere', 'been', 'full', '’s', 'four', 'which', 'could', 'or', 'else', 'from', 'ca', 'will', 'can', 'thus', 'except', 'seems', 'whence', 'did', 'to', 'any', 'either'}\n"
     ]
    }
   ],
   "execution_count": 67
  },
  {
   "metadata": {
    "ExecuteTime": {
     "end_time": "2025-09-02T18:42:55.328128Z",
     "start_time": "2025-09-02T18:42:55.323835Z"
    }
   },
   "cell_type": "code",
   "source": "type(STOP_WORDS)",
   "id": "9c874a74ac685a03",
   "outputs": [
    {
     "data": {
      "text/plain": [
       "set"
      ]
     },
     "execution_count": 68,
     "metadata": {},
     "output_type": "execute_result"
    }
   ],
   "execution_count": 68
  },
  {
   "metadata": {
    "ExecuteTime": {
     "end_time": "2025-09-02T18:42:57.737915Z",
     "start_time": "2025-09-02T18:42:57.324408Z"
    }
   },
   "cell_type": "code",
   "source": "nlp=spacy.load(\"en_core_web_sm\")",
   "id": "855fb8427c51be10",
   "outputs": [],
   "execution_count": 69
  },
  {
   "metadata": {
    "ExecuteTime": {
     "end_time": "2025-09-02T18:43:00.090191Z",
     "start_time": "2025-09-02T18:43:00.076407Z"
    }
   },
   "cell_type": "code",
   "source": [
    "doc=nlp(\"We just opened our wings, the flying part is coming soon.\")\n",
    "for token in doc:\n",
    "    if token.is_stop:\n",
    "        print(token)"
   ],
   "id": "874dd012356c15ea",
   "outputs": [
    {
     "name": "stdout",
     "output_type": "stream",
     "text": [
      "We\n",
      "just\n",
      "our\n",
      "the\n",
      "part\n",
      "is\n"
     ]
    }
   ],
   "execution_count": 70
  },
  {
   "metadata": {
    "ExecuteTime": {
     "end_time": "2025-09-02T18:43:02.007546Z",
     "start_time": "2025-09-02T18:43:01.989244Z"
    }
   },
   "cell_type": "code",
   "source": [
    "def preprocess(text):\n",
    "    no_stop_words=[token.text for token in nlp(text) if not token.is_stop and not token.is_punct]\n",
    "    return \" \".join(no_stop_words)\n",
    "speech=\"We just opened our wings, the flying part is coming soon.\"\n",
    "preprocess(preprocess(speech))"
   ],
   "id": "83eaa714886425b2",
   "outputs": [
    {
     "data": {
      "text/plain": [
       "'opened wings flying coming soon'"
      ]
     },
     "execution_count": 71,
     "metadata": {},
     "output_type": "execute_result"
    }
   ],
   "execution_count": 71
  },
  {
   "metadata": {
    "ExecuteTime": {
     "end_time": "2025-09-02T18:43:05.297889Z",
     "start_time": "2025-09-02T18:43:04.782183Z"
    }
   },
   "cell_type": "code",
   "source": [
    "df=pd.read_json(\"doj_press.json\",lines=True)\n",
    "df"
   ],
   "id": "6c39f5e327b70f41",
   "outputs": [
    {
     "data": {
      "text/plain": [
       "            id                                              title  \\\n",
       "0         None       Convicted Bomb Plotter Sentenced to 30 Years   \n",
       "1      12-919   $1 Million in Restitution Payments Announced t...   \n",
       "2      11-1002  $1 Million Settlement Reached for Natural Reso...   \n",
       "3       10-015  10 Las Vegas Men Indicted \\r\\nfor Falsifying V...   \n",
       "4       18-898  $100 Million Settlement Will Speed Cleanup Wor...   \n",
       "...        ...                                                ...   \n",
       "13082   16-735  Yuengling to Upgrade Environmental Measures to...   \n",
       "13083   10-473  Zarein Ahmedzay Pleads Guilty to Terror Violat...   \n",
       "13084   17-045  Zimmer Biomet Holdings Inc. Agrees to Pay $17....   \n",
       "13085   17-252  ZTE Corporation Agrees to Plead Guilty and Pay...   \n",
       "13086   17-304  ZTE Corporation Pleads Guilty for  Violating U...   \n",
       "\n",
       "                                                contents  \\\n",
       "0      PORTLAND, Oregon. – Mohamed Osman Mohamud, 23,...   \n",
       "1        WASHINGTON – North Carolina’s Waccamaw River...   \n",
       "2            BOSTON– A $1-million settlement has been...   \n",
       "3        WASHINGTON—A federal grand jury in Las Vegas...   \n",
       "4      The U.S. Department of Justice, the U.S. Envir...   \n",
       "...                                                  ...   \n",
       "13082  The Department of Justice and the U.S. Environ...   \n",
       "13083    The Justice Department announced that Zarein...   \n",
       "13084  Subsidiary Agrees to Plead Guilty to Violating...   \n",
       "13085  ZTE Corporation has agreed to enter a guilty p...   \n",
       "13086  ZTE Corporation pleaded guilty today to conspi...   \n",
       "\n",
       "                            date  \\\n",
       "0      2014-10-01T00:00:00-04:00   \n",
       "1      2012-07-25T00:00:00-04:00   \n",
       "2      2011-08-03T00:00:00-04:00   \n",
       "3      2010-01-08T00:00:00-05:00   \n",
       "4      2018-07-09T00:00:00-04:00   \n",
       "...                          ...   \n",
       "13082  2016-06-23T00:00:00-04:00   \n",
       "13083  2010-04-23T00:00:00-04:00   \n",
       "13084  2017-01-12T00:00:00-05:00   \n",
       "13085  2017-03-07T00:00:00-05:00   \n",
       "13086  2017-03-22T00:00:00-04:00   \n",
       "\n",
       "                                                  topics  \\\n",
       "0                                                     []   \n",
       "1                                                     []   \n",
       "2                                                     []   \n",
       "3                                                     []   \n",
       "4                                          [Environment]   \n",
       "...                                                  ...   \n",
       "13082                                      [Environment]   \n",
       "13083                                                 []   \n",
       "13084                               [Foreign Corruption]   \n",
       "13085  [Asset Forfeiture, Counterintelligence and Exp...   \n",
       "13086           [Counterintelligence and Export Control]   \n",
       "\n",
       "                                              components  \n",
       "0                     [National Security Division (NSD)]  \n",
       "1           [Environment and Natural Resources Division]  \n",
       "2           [Environment and Natural Resources Division]  \n",
       "3           [Environment and Natural Resources Division]  \n",
       "4           [Environment and Natural Resources Division]  \n",
       "...                                                  ...  \n",
       "13082       [Environment and Natural Resources Division]  \n",
       "13083                   [Office of the Attorney General]  \n",
       "13084  [Criminal Division, Criminal - Criminal Fraud ...  \n",
       "13085  [National Security Division (NSD), USAO - Texa...  \n",
       "13086  [National Security Division (NSD), USAO - Texa...  \n",
       "\n",
       "[13087 rows x 6 columns]"
      ],
      "text/html": [
       "<div>\n",
       "<style scoped>\n",
       "    .dataframe tbody tr th:only-of-type {\n",
       "        vertical-align: middle;\n",
       "    }\n",
       "\n",
       "    .dataframe tbody tr th {\n",
       "        vertical-align: top;\n",
       "    }\n",
       "\n",
       "    .dataframe thead th {\n",
       "        text-align: right;\n",
       "    }\n",
       "</style>\n",
       "<table border=\"1\" class=\"dataframe\">\n",
       "  <thead>\n",
       "    <tr style=\"text-align: right;\">\n",
       "      <th></th>\n",
       "      <th>id</th>\n",
       "      <th>title</th>\n",
       "      <th>contents</th>\n",
       "      <th>date</th>\n",
       "      <th>topics</th>\n",
       "      <th>components</th>\n",
       "    </tr>\n",
       "  </thead>\n",
       "  <tbody>\n",
       "    <tr>\n",
       "      <th>0</th>\n",
       "      <td>None</td>\n",
       "      <td>Convicted Bomb Plotter Sentenced to 30 Years</td>\n",
       "      <td>PORTLAND, Oregon. – Mohamed Osman Mohamud, 23,...</td>\n",
       "      <td>2014-10-01T00:00:00-04:00</td>\n",
       "      <td>[]</td>\n",
       "      <td>[National Security Division (NSD)]</td>\n",
       "    </tr>\n",
       "    <tr>\n",
       "      <th>1</th>\n",
       "      <td>12-919</td>\n",
       "      <td>$1 Million in Restitution Payments Announced t...</td>\n",
       "      <td>WASHINGTON – North Carolina’s Waccamaw River...</td>\n",
       "      <td>2012-07-25T00:00:00-04:00</td>\n",
       "      <td>[]</td>\n",
       "      <td>[Environment and Natural Resources Division]</td>\n",
       "    </tr>\n",
       "    <tr>\n",
       "      <th>2</th>\n",
       "      <td>11-1002</td>\n",
       "      <td>$1 Million Settlement Reached for Natural Reso...</td>\n",
       "      <td>BOSTON– A $1-million settlement has been...</td>\n",
       "      <td>2011-08-03T00:00:00-04:00</td>\n",
       "      <td>[]</td>\n",
       "      <td>[Environment and Natural Resources Division]</td>\n",
       "    </tr>\n",
       "    <tr>\n",
       "      <th>3</th>\n",
       "      <td>10-015</td>\n",
       "      <td>10 Las Vegas Men Indicted \\r\\nfor Falsifying V...</td>\n",
       "      <td>WASHINGTON—A federal grand jury in Las Vegas...</td>\n",
       "      <td>2010-01-08T00:00:00-05:00</td>\n",
       "      <td>[]</td>\n",
       "      <td>[Environment and Natural Resources Division]</td>\n",
       "    </tr>\n",
       "    <tr>\n",
       "      <th>4</th>\n",
       "      <td>18-898</td>\n",
       "      <td>$100 Million Settlement Will Speed Cleanup Wor...</td>\n",
       "      <td>The U.S. Department of Justice, the U.S. Envir...</td>\n",
       "      <td>2018-07-09T00:00:00-04:00</td>\n",
       "      <td>[Environment]</td>\n",
       "      <td>[Environment and Natural Resources Division]</td>\n",
       "    </tr>\n",
       "    <tr>\n",
       "      <th>...</th>\n",
       "      <td>...</td>\n",
       "      <td>...</td>\n",
       "      <td>...</td>\n",
       "      <td>...</td>\n",
       "      <td>...</td>\n",
       "      <td>...</td>\n",
       "    </tr>\n",
       "    <tr>\n",
       "      <th>13082</th>\n",
       "      <td>16-735</td>\n",
       "      <td>Yuengling to Upgrade Environmental Measures to...</td>\n",
       "      <td>The Department of Justice and the U.S. Environ...</td>\n",
       "      <td>2016-06-23T00:00:00-04:00</td>\n",
       "      <td>[Environment]</td>\n",
       "      <td>[Environment and Natural Resources Division]</td>\n",
       "    </tr>\n",
       "    <tr>\n",
       "      <th>13083</th>\n",
       "      <td>10-473</td>\n",
       "      <td>Zarein Ahmedzay Pleads Guilty to Terror Violat...</td>\n",
       "      <td>The Justice Department announced that Zarein...</td>\n",
       "      <td>2010-04-23T00:00:00-04:00</td>\n",
       "      <td>[]</td>\n",
       "      <td>[Office of the Attorney General]</td>\n",
       "    </tr>\n",
       "    <tr>\n",
       "      <th>13084</th>\n",
       "      <td>17-045</td>\n",
       "      <td>Zimmer Biomet Holdings Inc. Agrees to Pay $17....</td>\n",
       "      <td>Subsidiary Agrees to Plead Guilty to Violating...</td>\n",
       "      <td>2017-01-12T00:00:00-05:00</td>\n",
       "      <td>[Foreign Corruption]</td>\n",
       "      <td>[Criminal Division, Criminal - Criminal Fraud ...</td>\n",
       "    </tr>\n",
       "    <tr>\n",
       "      <th>13085</th>\n",
       "      <td>17-252</td>\n",
       "      <td>ZTE Corporation Agrees to Plead Guilty and Pay...</td>\n",
       "      <td>ZTE Corporation has agreed to enter a guilty p...</td>\n",
       "      <td>2017-03-07T00:00:00-05:00</td>\n",
       "      <td>[Asset Forfeiture, Counterintelligence and Exp...</td>\n",
       "      <td>[National Security Division (NSD), USAO - Texa...</td>\n",
       "    </tr>\n",
       "    <tr>\n",
       "      <th>13086</th>\n",
       "      <td>17-304</td>\n",
       "      <td>ZTE Corporation Pleads Guilty for  Violating U...</td>\n",
       "      <td>ZTE Corporation pleaded guilty today to conspi...</td>\n",
       "      <td>2017-03-22T00:00:00-04:00</td>\n",
       "      <td>[Counterintelligence and Export Control]</td>\n",
       "      <td>[National Security Division (NSD), USAO - Texa...</td>\n",
       "    </tr>\n",
       "  </tbody>\n",
       "</table>\n",
       "<p>13087 rows × 6 columns</p>\n",
       "</div>"
      ]
     },
     "execution_count": 72,
     "metadata": {},
     "output_type": "execute_result"
    }
   ],
   "execution_count": 72
  },
  {
   "metadata": {
    "ExecuteTime": {
     "end_time": "2025-09-02T17:48:11.207361Z",
     "start_time": "2025-09-02T17:48:11.202939Z"
    }
   },
   "cell_type": "code",
   "source": "df.shape",
   "id": "97e0fa5934c71f2e",
   "outputs": [
    {
     "data": {
      "text/plain": [
       "(13087, 6)"
      ]
     },
     "execution_count": 19,
     "metadata": {},
     "output_type": "execute_result"
    }
   ],
   "execution_count": 19
  },
  {
   "metadata": {
    "ExecuteTime": {
     "end_time": "2025-09-02T18:43:08.744811Z",
     "start_time": "2025-09-02T18:43:08.741299Z"
    }
   },
   "cell_type": "code",
   "source": [
    "if not df[\"topics\"][0]:\n",
    "    print(\"empty\")"
   ],
   "id": "28aef085b8e3e5e0",
   "outputs": [
    {
     "name": "stdout",
     "output_type": "stream",
     "text": [
      "empty\n"
     ]
    }
   ],
   "execution_count": 73
  },
  {
   "metadata": {
    "ExecuteTime": {
     "end_time": "2025-09-02T18:46:33.561318Z",
     "start_time": "2025-09-02T18:46:33.541797Z"
    }
   },
   "cell_type": "code",
   "source": [
    "df2=df[df[\"topics\"].str.len()!=0]\n",
    "df2"
   ],
   "id": "d24bb07216060db6",
   "outputs": [
    {
     "data": {
      "text/plain": [
       "            id                                              title  \\\n",
       "4       18-898  $100 Million Settlement Will Speed Cleanup Wor...   \n",
       "7      14-1412  14 Indicted in Connection with New England Com...   \n",
       "19     17-1419  2017 Southeast Regional Animal Cruelty Prosecu...   \n",
       "22     15-1562  21st Century Oncology to Pay $19.75 Million to...   \n",
       "23     17-1404  21st Century Oncology to Pay $26 Million to Se...   \n",
       "...        ...                                                ...   \n",
       "13081  14-1377  Yuba City, California, Man Sentenced to 46 Mon...   \n",
       "13082   16-735  Yuengling to Upgrade Environmental Measures to...   \n",
       "13084   17-045  Zimmer Biomet Holdings Inc. Agrees to Pay $17....   \n",
       "13085   17-252  ZTE Corporation Agrees to Plead Guilty and Pay...   \n",
       "13086   17-304  ZTE Corporation Pleads Guilty for  Violating U...   \n",
       "\n",
       "                                                contents  \\\n",
       "4      The U.S. Department of Justice, the U.S. Envir...   \n",
       "7      A 131-count criminal indictment was unsealed t...   \n",
       "19     The United States Attorney’s Office for the Mi...   \n",
       "22     21st Century Oncology LLC, has agreed to pay $...   \n",
       "23     21st Century Oncology Inc. and certain of its ...   \n",
       "...                                                  ...   \n",
       "13081  Anthony Merrell Tyler, 34, of Yuba City, Calif...   \n",
       "13082  The Department of Justice and the U.S. Environ...   \n",
       "13084  Subsidiary Agrees to Plead Guilty to Violating...   \n",
       "13085  ZTE Corporation has agreed to enter a guilty p...   \n",
       "13086  ZTE Corporation pleaded guilty today to conspi...   \n",
       "\n",
       "                            date  \\\n",
       "4      2018-07-09T00:00:00-04:00   \n",
       "7      2014-12-17T00:00:00-05:00   \n",
       "19     2017-12-14T00:00:00-05:00   \n",
       "22     2015-12-18T00:00:00-05:00   \n",
       "23     2017-12-12T00:00:00-05:00   \n",
       "...                          ...   \n",
       "13081  2014-12-09T00:00:00-05:00   \n",
       "13082  2016-06-23T00:00:00-04:00   \n",
       "13084  2017-01-12T00:00:00-05:00   \n",
       "13085  2017-03-07T00:00:00-05:00   \n",
       "13086  2017-03-22T00:00:00-04:00   \n",
       "\n",
       "                                                  topics  \\\n",
       "4                                          [Environment]   \n",
       "7                                  [Consumer Protection]   \n",
       "19                                         [Environment]   \n",
       "22                 [False Claims Act, Health Care Fraud]   \n",
       "23                 [Health Care Fraud, False Claims Act]   \n",
       "...                                                  ...   \n",
       "13081                                      [Hate Crimes]   \n",
       "13082                                      [Environment]   \n",
       "13084                               [Foreign Corruption]   \n",
       "13085  [Asset Forfeiture, Counterintelligence and Exp...   \n",
       "13086           [Counterintelligence and Export Control]   \n",
       "\n",
       "                                              components  \n",
       "4           [Environment and Natural Resources Division]  \n",
       "7                                       [Civil Division]  \n",
       "19     [Environment and Natural Resources Division, U...  \n",
       "22                                      [Civil Division]  \n",
       "23              [Civil Division, USAO - Florida, Middle]  \n",
       "...                                                  ...  \n",
       "13081  [Civil Rights Division, Civil Rights - Crimina...  \n",
       "13082       [Environment and Natural Resources Division]  \n",
       "13084  [Criminal Division, Criminal - Criminal Fraud ...  \n",
       "13085  [National Security Division (NSD), USAO - Texa...  \n",
       "13086  [National Security Division (NSD), USAO - Texa...  \n",
       "\n",
       "[4688 rows x 6 columns]"
      ],
      "text/html": [
       "<div>\n",
       "<style scoped>\n",
       "    .dataframe tbody tr th:only-of-type {\n",
       "        vertical-align: middle;\n",
       "    }\n",
       "\n",
       "    .dataframe tbody tr th {\n",
       "        vertical-align: top;\n",
       "    }\n",
       "\n",
       "    .dataframe thead th {\n",
       "        text-align: right;\n",
       "    }\n",
       "</style>\n",
       "<table border=\"1\" class=\"dataframe\">\n",
       "  <thead>\n",
       "    <tr style=\"text-align: right;\">\n",
       "      <th></th>\n",
       "      <th>id</th>\n",
       "      <th>title</th>\n",
       "      <th>contents</th>\n",
       "      <th>date</th>\n",
       "      <th>topics</th>\n",
       "      <th>components</th>\n",
       "    </tr>\n",
       "  </thead>\n",
       "  <tbody>\n",
       "    <tr>\n",
       "      <th>4</th>\n",
       "      <td>18-898</td>\n",
       "      <td>$100 Million Settlement Will Speed Cleanup Wor...</td>\n",
       "      <td>The U.S. Department of Justice, the U.S. Envir...</td>\n",
       "      <td>2018-07-09T00:00:00-04:00</td>\n",
       "      <td>[Environment]</td>\n",
       "      <td>[Environment and Natural Resources Division]</td>\n",
       "    </tr>\n",
       "    <tr>\n",
       "      <th>7</th>\n",
       "      <td>14-1412</td>\n",
       "      <td>14 Indicted in Connection with New England Com...</td>\n",
       "      <td>A 131-count criminal indictment was unsealed t...</td>\n",
       "      <td>2014-12-17T00:00:00-05:00</td>\n",
       "      <td>[Consumer Protection]</td>\n",
       "      <td>[Civil Division]</td>\n",
       "    </tr>\n",
       "    <tr>\n",
       "      <th>19</th>\n",
       "      <td>17-1419</td>\n",
       "      <td>2017 Southeast Regional Animal Cruelty Prosecu...</td>\n",
       "      <td>The United States Attorney’s Office for the Mi...</td>\n",
       "      <td>2017-12-14T00:00:00-05:00</td>\n",
       "      <td>[Environment]</td>\n",
       "      <td>[Environment and Natural Resources Division, U...</td>\n",
       "    </tr>\n",
       "    <tr>\n",
       "      <th>22</th>\n",
       "      <td>15-1562</td>\n",
       "      <td>21st Century Oncology to Pay $19.75 Million to...</td>\n",
       "      <td>21st Century Oncology LLC, has agreed to pay $...</td>\n",
       "      <td>2015-12-18T00:00:00-05:00</td>\n",
       "      <td>[False Claims Act, Health Care Fraud]</td>\n",
       "      <td>[Civil Division]</td>\n",
       "    </tr>\n",
       "    <tr>\n",
       "      <th>23</th>\n",
       "      <td>17-1404</td>\n",
       "      <td>21st Century Oncology to Pay $26 Million to Se...</td>\n",
       "      <td>21st Century Oncology Inc. and certain of its ...</td>\n",
       "      <td>2017-12-12T00:00:00-05:00</td>\n",
       "      <td>[Health Care Fraud, False Claims Act]</td>\n",
       "      <td>[Civil Division, USAO - Florida, Middle]</td>\n",
       "    </tr>\n",
       "    <tr>\n",
       "      <th>...</th>\n",
       "      <td>...</td>\n",
       "      <td>...</td>\n",
       "      <td>...</td>\n",
       "      <td>...</td>\n",
       "      <td>...</td>\n",
       "      <td>...</td>\n",
       "    </tr>\n",
       "    <tr>\n",
       "      <th>13081</th>\n",
       "      <td>14-1377</td>\n",
       "      <td>Yuba City, California, Man Sentenced to 46 Mon...</td>\n",
       "      <td>Anthony Merrell Tyler, 34, of Yuba City, Calif...</td>\n",
       "      <td>2014-12-09T00:00:00-05:00</td>\n",
       "      <td>[Hate Crimes]</td>\n",
       "      <td>[Civil Rights Division, Civil Rights - Crimina...</td>\n",
       "    </tr>\n",
       "    <tr>\n",
       "      <th>13082</th>\n",
       "      <td>16-735</td>\n",
       "      <td>Yuengling to Upgrade Environmental Measures to...</td>\n",
       "      <td>The Department of Justice and the U.S. Environ...</td>\n",
       "      <td>2016-06-23T00:00:00-04:00</td>\n",
       "      <td>[Environment]</td>\n",
       "      <td>[Environment and Natural Resources Division]</td>\n",
       "    </tr>\n",
       "    <tr>\n",
       "      <th>13084</th>\n",
       "      <td>17-045</td>\n",
       "      <td>Zimmer Biomet Holdings Inc. Agrees to Pay $17....</td>\n",
       "      <td>Subsidiary Agrees to Plead Guilty to Violating...</td>\n",
       "      <td>2017-01-12T00:00:00-05:00</td>\n",
       "      <td>[Foreign Corruption]</td>\n",
       "      <td>[Criminal Division, Criminal - Criminal Fraud ...</td>\n",
       "    </tr>\n",
       "    <tr>\n",
       "      <th>13085</th>\n",
       "      <td>17-252</td>\n",
       "      <td>ZTE Corporation Agrees to Plead Guilty and Pay...</td>\n",
       "      <td>ZTE Corporation has agreed to enter a guilty p...</td>\n",
       "      <td>2017-03-07T00:00:00-05:00</td>\n",
       "      <td>[Asset Forfeiture, Counterintelligence and Exp...</td>\n",
       "      <td>[National Security Division (NSD), USAO - Texa...</td>\n",
       "    </tr>\n",
       "    <tr>\n",
       "      <th>13086</th>\n",
       "      <td>17-304</td>\n",
       "      <td>ZTE Corporation Pleads Guilty for  Violating U...</td>\n",
       "      <td>ZTE Corporation pleaded guilty today to conspi...</td>\n",
       "      <td>2017-03-22T00:00:00-04:00</td>\n",
       "      <td>[Counterintelligence and Export Control]</td>\n",
       "      <td>[National Security Division (NSD), USAO - Texa...</td>\n",
       "    </tr>\n",
       "  </tbody>\n",
       "</table>\n",
       "<p>4688 rows × 6 columns</p>\n",
       "</div>"
      ]
     },
     "execution_count": 79,
     "metadata": {},
     "output_type": "execute_result"
    }
   ],
   "execution_count": 79
  },
  {
   "metadata": {
    "ExecuteTime": {
     "end_time": "2025-09-02T18:49:50.710723Z",
     "start_time": "2025-09-02T18:49:50.707596Z"
    }
   },
   "cell_type": "code",
   "source": "df=df.head(100)",
   "id": "e62c27654cc7a079",
   "outputs": [],
   "execution_count": 87
  },
  {
   "metadata": {
    "ExecuteTime": {
     "end_time": "2025-09-02T18:49:57.315325Z",
     "start_time": "2025-09-02T18:49:57.301682Z"
    }
   },
   "cell_type": "code",
   "source": "df",
   "id": "2796cdc8f4a4c7a5",
   "outputs": [
    {
     "data": {
      "text/plain": [
       "         id                                              title  \\\n",
       "0      None       Convicted Bomb Plotter Sentenced to 30 Years   \n",
       "1   12-919   $1 Million in Restitution Payments Announced t...   \n",
       "2   11-1002  $1 Million Settlement Reached for Natural Reso...   \n",
       "3    10-015  10 Las Vegas Men Indicted \\r\\nfor Falsifying V...   \n",
       "4    18-898  $100 Million Settlement Will Speed Cleanup Wor...   \n",
       "..      ...                                                ...   \n",
       "95   15-914  After Nearly 20 Years, International Fugitive ...   \n",
       "96  14-1142  After Supreme Court Declines to Hear Same-Sex ...   \n",
       "97   16-731  After UBS Produces Singapore-Based Documents, ...   \n",
       "98  09-1056  AGCO Corp. to Pay $1.6 Million in Connection w...   \n",
       "99   10-872  Agency Chief FOIA Officers Respond to the Pres...   \n",
       "\n",
       "                                             contents  \\\n",
       "0   PORTLAND, Oregon. – Mohamed Osman Mohamud, 23,...   \n",
       "1     WASHINGTON – North Carolina’s Waccamaw River...   \n",
       "2         BOSTON– A $1-million settlement has been...   \n",
       "3     WASHINGTON—A federal grand jury in Las Vegas...   \n",
       "4   The U.S. Department of Justice, the U.S. Envir...   \n",
       "..                                                ...   \n",
       "95  A former New York businessman, who disappeared...   \n",
       "96  Attorney General Eric Holder announced today t...   \n",
       "97  UBS AG has complied with an Internal Revenue S...   \n",
       "98    WASHINGTON – AGCO Corp., a U.S. corporation ...   \n",
       "99        WASHINGTON – Responding to the President...   \n",
       "\n",
       "                         date         topics  \\\n",
       "0   2014-10-01T00:00:00-04:00             []   \n",
       "1   2012-07-25T00:00:00-04:00             []   \n",
       "2   2011-08-03T00:00:00-04:00             []   \n",
       "3   2010-01-08T00:00:00-05:00             []   \n",
       "4   2018-07-09T00:00:00-04:00  [Environment]   \n",
       "..                        ...            ...   \n",
       "95  2015-07-21T00:00:00-04:00             []   \n",
       "96  2014-10-17T00:00:00-04:00             []   \n",
       "97  2016-06-22T00:00:00-04:00          [Tax]   \n",
       "98  2009-09-30T00:00:00-04:00             []   \n",
       "99  2010-07-29T00:00:00-04:00             []   \n",
       "\n",
       "                                      components  \n",
       "0             [National Security Division (NSD)]  \n",
       "1   [Environment and Natural Resources Division]  \n",
       "2   [Environment and Natural Resources Division]  \n",
       "3   [Environment and Natural Resources Division]  \n",
       "4   [Environment and Natural Resources Division]  \n",
       "..                                           ...  \n",
       "95                                [Tax Division]  \n",
       "96              [Office of the Attorney General]  \n",
       "97                                [Tax Division]  \n",
       "98                           [Criminal Division]  \n",
       "99              [Office of the Attorney General]  \n",
       "\n",
       "[100 rows x 6 columns]"
      ],
      "text/html": [
       "<div>\n",
       "<style scoped>\n",
       "    .dataframe tbody tr th:only-of-type {\n",
       "        vertical-align: middle;\n",
       "    }\n",
       "\n",
       "    .dataframe tbody tr th {\n",
       "        vertical-align: top;\n",
       "    }\n",
       "\n",
       "    .dataframe thead th {\n",
       "        text-align: right;\n",
       "    }\n",
       "</style>\n",
       "<table border=\"1\" class=\"dataframe\">\n",
       "  <thead>\n",
       "    <tr style=\"text-align: right;\">\n",
       "      <th></th>\n",
       "      <th>id</th>\n",
       "      <th>title</th>\n",
       "      <th>contents</th>\n",
       "      <th>date</th>\n",
       "      <th>topics</th>\n",
       "      <th>components</th>\n",
       "    </tr>\n",
       "  </thead>\n",
       "  <tbody>\n",
       "    <tr>\n",
       "      <th>0</th>\n",
       "      <td>None</td>\n",
       "      <td>Convicted Bomb Plotter Sentenced to 30 Years</td>\n",
       "      <td>PORTLAND, Oregon. – Mohamed Osman Mohamud, 23,...</td>\n",
       "      <td>2014-10-01T00:00:00-04:00</td>\n",
       "      <td>[]</td>\n",
       "      <td>[National Security Division (NSD)]</td>\n",
       "    </tr>\n",
       "    <tr>\n",
       "      <th>1</th>\n",
       "      <td>12-919</td>\n",
       "      <td>$1 Million in Restitution Payments Announced t...</td>\n",
       "      <td>WASHINGTON – North Carolina’s Waccamaw River...</td>\n",
       "      <td>2012-07-25T00:00:00-04:00</td>\n",
       "      <td>[]</td>\n",
       "      <td>[Environment and Natural Resources Division]</td>\n",
       "    </tr>\n",
       "    <tr>\n",
       "      <th>2</th>\n",
       "      <td>11-1002</td>\n",
       "      <td>$1 Million Settlement Reached for Natural Reso...</td>\n",
       "      <td>BOSTON– A $1-million settlement has been...</td>\n",
       "      <td>2011-08-03T00:00:00-04:00</td>\n",
       "      <td>[]</td>\n",
       "      <td>[Environment and Natural Resources Division]</td>\n",
       "    </tr>\n",
       "    <tr>\n",
       "      <th>3</th>\n",
       "      <td>10-015</td>\n",
       "      <td>10 Las Vegas Men Indicted \\r\\nfor Falsifying V...</td>\n",
       "      <td>WASHINGTON—A federal grand jury in Las Vegas...</td>\n",
       "      <td>2010-01-08T00:00:00-05:00</td>\n",
       "      <td>[]</td>\n",
       "      <td>[Environment and Natural Resources Division]</td>\n",
       "    </tr>\n",
       "    <tr>\n",
       "      <th>4</th>\n",
       "      <td>18-898</td>\n",
       "      <td>$100 Million Settlement Will Speed Cleanup Wor...</td>\n",
       "      <td>The U.S. Department of Justice, the U.S. Envir...</td>\n",
       "      <td>2018-07-09T00:00:00-04:00</td>\n",
       "      <td>[Environment]</td>\n",
       "      <td>[Environment and Natural Resources Division]</td>\n",
       "    </tr>\n",
       "    <tr>\n",
       "      <th>...</th>\n",
       "      <td>...</td>\n",
       "      <td>...</td>\n",
       "      <td>...</td>\n",
       "      <td>...</td>\n",
       "      <td>...</td>\n",
       "      <td>...</td>\n",
       "    </tr>\n",
       "    <tr>\n",
       "      <th>95</th>\n",
       "      <td>15-914</td>\n",
       "      <td>After Nearly 20 Years, International Fugitive ...</td>\n",
       "      <td>A former New York businessman, who disappeared...</td>\n",
       "      <td>2015-07-21T00:00:00-04:00</td>\n",
       "      <td>[]</td>\n",
       "      <td>[Tax Division]</td>\n",
       "    </tr>\n",
       "    <tr>\n",
       "      <th>96</th>\n",
       "      <td>14-1142</td>\n",
       "      <td>After Supreme Court Declines to Hear Same-Sex ...</td>\n",
       "      <td>Attorney General Eric Holder announced today t...</td>\n",
       "      <td>2014-10-17T00:00:00-04:00</td>\n",
       "      <td>[]</td>\n",
       "      <td>[Office of the Attorney General]</td>\n",
       "    </tr>\n",
       "    <tr>\n",
       "      <th>97</th>\n",
       "      <td>16-731</td>\n",
       "      <td>After UBS Produces Singapore-Based Documents, ...</td>\n",
       "      <td>UBS AG has complied with an Internal Revenue S...</td>\n",
       "      <td>2016-06-22T00:00:00-04:00</td>\n",
       "      <td>[Tax]</td>\n",
       "      <td>[Tax Division]</td>\n",
       "    </tr>\n",
       "    <tr>\n",
       "      <th>98</th>\n",
       "      <td>09-1056</td>\n",
       "      <td>AGCO Corp. to Pay $1.6 Million in Connection w...</td>\n",
       "      <td>WASHINGTON – AGCO Corp., a U.S. corporation ...</td>\n",
       "      <td>2009-09-30T00:00:00-04:00</td>\n",
       "      <td>[]</td>\n",
       "      <td>[Criminal Division]</td>\n",
       "    </tr>\n",
       "    <tr>\n",
       "      <th>99</th>\n",
       "      <td>10-872</td>\n",
       "      <td>Agency Chief FOIA Officers Respond to the Pres...</td>\n",
       "      <td>WASHINGTON – Responding to the President...</td>\n",
       "      <td>2010-07-29T00:00:00-04:00</td>\n",
       "      <td>[]</td>\n",
       "      <td>[Office of the Attorney General]</td>\n",
       "    </tr>\n",
       "  </tbody>\n",
       "</table>\n",
       "<p>100 rows × 6 columns</p>\n",
       "</div>"
      ]
     },
     "execution_count": 88,
     "metadata": {},
     "output_type": "execute_result"
    }
   ],
   "execution_count": 88
  },
  {
   "metadata": {
    "ExecuteTime": {
     "end_time": "2025-09-02T18:50:41.280309Z",
     "start_time": "2025-09-02T18:50:41.274948Z"
    }
   },
   "cell_type": "code",
   "source": "df.contents.iloc[4]",
   "id": "4226bc67f92240b8",
   "outputs": [
    {
     "data": {
      "text/plain": [
       "\"The U.S. Department of Justice, the U.S. Environmental Protection Agency (EPA), and the Rhode Island Department of Environmental Management (RIDEM) announced today that two subsidiaries of Stanley Black & Decker Inc.—Emhart Industries Inc. and Black & Decker Inc.—have agreed to clean up dioxin contaminated sediment and soil at the Centredale Manor Restoration Project Superfund Site in North Providence and Johnston, Rhode Island.\\xa0 “We are pleased to reach a resolution through collaborative work with the responsible parties, EPA, and other stakeholders,” said\\xa0Acting Assistant Attorney General Jeffrey H. Wood for the Justice Department's\\xa0Environment and Natural Resources Division . “Today’s settlement ends protracted litigation and allows for important work to get underway to restore a healthy environment for citizens living in and around the Centredale Manor Site and the Woonasquatucket River.” “This settlement demonstrates the tremendous progress we are achieving working with responsible parties, states, and our federal partners to expedite sites through the entire Superfund remediation process,” said EPA Acting Administrator Andrew Wheeler. “The Centredale Manor Site has been on the National Priorities List for 18 years; we are taking charge and ensuring the Agency makes good on its promise to clean it up for the betterment of the environment and those communities affected.” “Successfully concluding this settlement paves the way for EPA to make good on our commitment to aggressively pursue cleaning up the Centredale Manor Superfund Site,” said EPA New England Regional Administrator Alexandra Dunn. “We are excited to get to work on the cleanup at this site, and get it closer to the goal of being fully utilized by the North Providence and Johnston communities.” “We are pleased that the collective efforts of the State of Rhode Island, EPA, and DOJ in these negotiations have concluded in this major milestone toward the cleanup of the Centredale Manor Restoration Superfund site and are consistent with our long-standing efforts to make the polluter pay,” said RIDEM Director Janet Coit. “The settlement will speed up a remedy that protects public health and the river environment, and moves us closer to the day that we can reclaim recreational uses of this beautiful river resource.” The settlement, which includes cleanup work in the Woonasquatucket River (River) and bordering residential and commercial properties along the River, requires the companies to perform the remedy selected by EPA for the Site in 2012, which is estimated to cost approximately $100 million, and resolves longstanding litigation. The cleanup remedy includes excavation of contaminated sediment and floodplain soil from the Woonasquatucket River, including from adjacent residential properties. Once the cleanup remedy is completed, full access to the Woonasquatucket River should be restored for local citizens. The cleanup will be a step toward the State’s goal of a fishable and swimmable river. The work will also include upgrading caps over contaminated soil in the peninsula area of the Site that currently house two high-rise apartment buildings. The settlement also ensures that the long-term monitoring and maintenance of the site, as directed in the remedy, will be implemented to ensure that public health is protected.\\xa0 Under the settlement, Emhart and Black & Decker will reimburse EPA for approximately $42 million in past costs incurred at the Site. The companies will also reimburse EPA and the State of Rhode Island for future costs incurred by those agencies in overseeing the work required by the settlement. The settlement will also include payments on behalf of two federal agencies to resolve claims against those agencies. These payments, along with prior settlements related to the Site, will result in a 100 percent recovery for the United States of its past and future response costs related to the Site. Litigation related to the Site has been ongoing for nearly eight years. While the Federal District Court found Black & Decker and Emhart to be liable for their hazardous waste and responsible to conduct the cleanup of the Site, it had also ruled that EPA needed to reconsider certain aspects of that cleanup. EPA appealed the decision requiring it to reconsider aspects of the cleanup. This settlement, once entered by the District Court, will resolve the litigation between the United States, Rhode Island, and Emhart and Black and Decker, allowing the cleanup of the Site to begin. The Site spans a one and a half mile stretch of the Woonasquatucket River and encompasses a nine-acre peninsula, two ponds and a significant forested wetland. From the 1940s to the early 1970s, Emhart’s predecessor operated a chemical manufacturing facility on the peninsula and used a raw material that was contaminated with 2,3,7,8-tetrachlorodibenzo-p-dioxin, a toxic form of dioxin. The Site property was also previously used by a barrel refurbisher. Elevated levels of dioxins and other contaminants have been detected in soil, groundwater, sediment, surface water and fish.\\xa0 The Site was added to the National Priorities List (NPL) in 2000, and in December 2017, EPA included the Centredale Manor Restoration Project Superfund Site on a list of Superfund sites targeted for immediate and intense attention. Several short-term actions were previously performed at the Site to address immediate threats to the residents and minimize potential erosion and downstream transport of contaminated soil and sediment. This settlement is the latest agreement EPA has reached since the Site was listed on the NPL. Prior agreements addressed the performance and recovery of costs for the past environmental investigations and interim cleanup actions from Emhart, the barrel reconditioning company, the current owners of the peninsula portion of the Site, and other potentially responsible parties. The Consent Decree, lodged in the U.S. District Court of Rhode Island, will be posted in the Federal Register and available for public comment for a period of 30 days. The Consent Decree can be viewed on the Justice Department website:\\xa0www.justice.gov/enrd/Consent_Decrees.html.\\xa0 EPA information on the Centredale Manor Superfund Site:\\xa0www.epa.gov/superfund/centredale.\""
      ]
     },
     "execution_count": 89,
     "metadata": {},
     "output_type": "execute_result"
    }
   ],
   "execution_count": 89
  },
  {
   "metadata": {
    "ExecuteTime": {
     "end_time": "2025-09-02T18:51:55.774355Z",
     "start_time": "2025-09-02T18:51:55.551744Z"
    }
   },
   "cell_type": "code",
   "source": [
    "text_json=df.contents.iloc[4]\n",
    "print(preprocess(text_json))"
   ],
   "id": "be7899deabf355ed",
   "outputs": [
    {
     "name": "stdout",
     "output_type": "stream",
     "text": [
      "U.S. Department Justice U.S. Environmental Protection Agency EPA Rhode Island Department Environmental Management RIDEM announced today subsidiaries Stanley Black Decker Inc.—Emhart Industries Inc. Black Decker Inc.—have agreed clean dioxin contaminated sediment soil Centredale Manor Restoration Project Superfund Site North Providence Johnston Rhode Island    pleased reach resolution collaborative work responsible parties EPA stakeholders said   Acting Assistant Attorney General Jeffrey H. Wood Justice Department   Environment Natural Resources Division Today settlement ends protracted litigation allows important work underway restore healthy environment citizens living Centredale Manor Site Woonasquatucket River settlement demonstrates tremendous progress achieving working responsible parties states federal partners expedite sites entire Superfund remediation process said EPA Acting Administrator Andrew Wheeler Centredale Manor Site National Priorities List 18 years taking charge ensuring Agency makes good promise clean betterment environment communities affected Successfully concluding settlement paves way EPA good commitment aggressively pursue cleaning Centredale Manor Superfund Site said EPA New England Regional Administrator Alexandra Dunn excited work cleanup site closer goal fully utilized North Providence Johnston communities pleased collective efforts State Rhode Island EPA DOJ negotiations concluded major milestone cleanup Centredale Manor Restoration Superfund site consistent long standing efforts polluter pay said RIDEM Director Janet Coit settlement speed remedy protects public health river environment moves closer day reclaim recreational uses beautiful river resource settlement includes cleanup work Woonasquatucket River River bordering residential commercial properties River requires companies perform remedy selected EPA Site 2012 estimated cost approximately $ 100 million resolves longstanding litigation cleanup remedy includes excavation contaminated sediment floodplain soil Woonasquatucket River including adjacent residential properties cleanup remedy completed access Woonasquatucket River restored local citizens cleanup step State goal fishable swimmable river work include upgrading caps contaminated soil peninsula area Site currently house high rise apartment buildings settlement ensures long term monitoring maintenance site directed remedy implemented ensure public health protected    settlement Emhart Black Decker reimburse EPA approximately $ 42 million past costs incurred Site companies reimburse EPA State Rhode Island future costs incurred agencies overseeing work required settlement settlement include payments behalf federal agencies resolve claims agencies payments prior settlements related Site result 100 percent recovery United States past future response costs related Site Litigation related Site ongoing nearly years Federal District Court found Black Decker Emhart liable hazardous waste responsible conduct cleanup Site ruled EPA needed reconsider certain aspects cleanup EPA appealed decision requiring reconsider aspects cleanup settlement entered District Court resolve litigation United States Rhode Island Emhart Black Decker allowing cleanup Site begin Site spans half mile stretch Woonasquatucket River encompasses acre peninsula ponds significant forested wetland 1940s early 1970s Emhart predecessor operated chemical manufacturing facility peninsula raw material contaminated 2,3,7,8 tetrachlorodibenzo p dioxin toxic form dioxin Site property previously barrel refurbisher Elevated levels dioxins contaminants detected soil groundwater sediment surface water fish    Site added National Priorities List NPL 2000 December 2017 EPA included Centredale Manor Restoration Project Superfund Site list Superfund sites targeted immediate intense attention short term actions previously performed Site address immediate threats residents minimize potential erosion downstream transport contaminated soil sediment settlement latest agreement EPA reached Site listed NPL Prior agreements addressed performance recovery costs past environmental investigations interim cleanup actions Emhart barrel reconditioning company current owners peninsula portion Site potentially responsible parties Consent Decree lodged U.S. District Court Rhode Island posted Federal Register available public comment period 30 days Consent Decree viewed Justice Department website   www.justice.gov/enrd/Consent_Decrees.html    EPA information Centredale Manor Superfund Site   www.epa.gov/superfund/centredale\n"
     ]
    }
   ],
   "execution_count": 90
  },
  {
   "metadata": {},
   "cell_type": "code",
   "outputs": [],
   "execution_count": null,
   "source": "",
   "id": "4094d3cf8de2846c"
  }
 ],
 "metadata": {
  "kernelspec": {
   "display_name": "Python 3",
   "language": "python",
   "name": "python3"
  },
  "language_info": {
   "codemirror_mode": {
    "name": "ipython",
    "version": 2
   },
   "file_extension": ".py",
   "mimetype": "text/x-python",
   "name": "python",
   "nbconvert_exporter": "python",
   "pygments_lexer": "ipython2",
   "version": "2.7.6"
  }
 },
 "nbformat": 4,
 "nbformat_minor": 5
}
