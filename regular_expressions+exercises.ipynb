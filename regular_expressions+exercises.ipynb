{
 "cells": [
  {
   "cell_type": "code",
   "id": "initial_id",
   "metadata": {
    "collapsed": true,
    "ExecuteTime": {
     "end_time": "2025-08-24T14:48:22.190866Z",
     "start_time": "2025-08-24T14:48:22.146763Z"
    }
   },
   "source": "import re",
   "outputs": [],
   "execution_count": 1
  },
  {
   "metadata": {
    "ExecuteTime": {
     "end_time": "2025-08-13T11:47:10.112198Z",
     "start_time": "2025-08-13T11:47:10.102455Z"
    }
   },
   "cell_type": "code",
   "source": [
    "text = '''\n",
    "Follow our leader Elon musk on twitter here: https://twitter.com/elonmusk, more information\n",
    "on Tesla's products can be found at https://www.tesla.com/. Also here are leading influencers\n",
    "for tesla related news,\n",
    "https://twitter.com/teslarati\n",
    "https://twitter.com/dummy_tesla\n",
    "https://twitter.com/dummy_2_tesla\n",
    "'''\n",
    "pattern = 'https:\\/\\/twitter.com\\/([^ \\n,]+)' # todo: type your regex here\n",
    "\n",
    "list(re.findall(pattern, text))"
   ],
   "id": "70c2b49711db8036",
   "outputs": [
    {
     "data": {
      "text/plain": [
       "['elonmusk', 'teslarati', 'dummy_tesla', 'dummy_2_tesla']"
      ]
     },
     "execution_count": 16,
     "metadata": {},
     "output_type": "execute_result"
    }
   ],
   "execution_count": 16
  },
  {
   "metadata": {
    "ExecuteTime": {
     "end_time": "2025-08-13T11:43:37.847298Z",
     "start_time": "2025-08-13T11:43:37.829730Z"
    }
   },
   "cell_type": "code",
   "source": [
    "text = '''\n",
    "Concentration of Risk: Credit Risk\n",
    "Financial instruments that potentially subject us to a concentration of credit risk consist of cash, cash equivalents, marketable securities,\n",
    "restricted cash, accounts receivable, convertible note hedges, and interest rate swaps. Our cash balances are primarily invested in money market funds\n",
    "or on deposit at high credit quality financial institutions in the U.S. These deposits are typically in excess of insured limits. As of September 30, 2021\n",
    "and December 31, 2020, no entity represented 10% or more of our total accounts receivable balance. The risk of concentration for our convertible note\n",
    "hedges and interest rate swaps is mitigated by transacting with several highly-rated multinational banks.\n",
    "Concentration of Risk: Supply Risk\n",
    "We are dependent on our suppliers, including single source suppliers, and the inability of these suppliers to deliver necessary components of our\n",
    "products in a timely manner at prices, quality levels and volumes acceptable to us, or our inability to efficiently manage these components from these\n",
    "suppliers, could have a material adverse effect on our business, prospects, financial condition and operating results.\n",
    "'''\n",
    "pattern = 'Concentration of Risk: ([^\\n]+)' # todo: type your regex here\n",
    "\n",
    "re.findall(pattern, text)"
   ],
   "id": "47d1302aeaa69599",
   "outputs": [
    {
     "data": {
      "text/plain": [
       "['Credit Risk', 'Supply Risk']"
      ]
     },
     "execution_count": 8,
     "metadata": {},
     "output_type": "execute_result"
    }
   ],
   "execution_count": 8
  },
  {
   "metadata": {
    "ExecuteTime": {
     "end_time": "2025-08-13T13:03:06.336052Z",
     "start_time": "2025-08-13T13:03:06.322250Z"
    }
   },
   "cell_type": "code",
   "source": [
    "text = '''\n",
    "Tesla's gross cost of operating lease vehicles in FY2021 Q1 was $4.85 billion.\n",
    "BMW's gross cost of operating vehicles in FY2021 S1 was $8 billion.\n",
    "'''\n",
    "\n",
    "pattern = 'FY(\\d{4} (?:Q[1-4]|S[1-2])) [^\\$]* (\\$[\\d\\.]*)' # todo: type your regex here\n",
    "matches = re.findall(pattern, text)\n",
    "print(matches)"
   ],
   "id": "f24cd10063db4088",
   "outputs": [
    {
     "name": "stdout",
     "output_type": "stream",
     "text": [
      "[('2021 Q1', '$4.85'), ('2021 S1', '$8')]\n"
     ]
    }
   ],
   "execution_count": 20
  },
  {
   "metadata": {
    "ExecuteTime": {
     "end_time": "2025-08-13T15:37:07.406366Z",
     "start_time": "2025-08-13T15:37:07.398040Z"
    }
   },
   "cell_type": "code",
   "source": [
    "text='''\n",
    "Musk in 2022\n",
    "Senior Advisor to the President\n",
    "In office\n",
    "January 20, 2025 – May 30, 2025\n",
    "President\tDonald Trump\n",
    "Preceded by\tTom Perez\n",
    "Succeeded by\tMassad Boulos\n",
    "Personal details\n",
    "Born\tElon Reeve Musk\n",
    "June 28, 1971 (age 54)\n",
    "Pretoria, South Africa\n",
    "Citizenship\n",
    "\n",
    "    South Africa\n",
    "    Canada\n",
    "    U.S. (since 2002)\n",
    "\n",
    "Political party\tIndependent\n",
    "Spouses\n",
    "\n",
    "    Justine Wilson\n",
    "    ​\n",
    "    ​\n",
    "    (m. 2000; div. 2008)​\n",
    "    Talulah Riley\n",
    "    ​\n",
    "    ​\n",
    "    (m. 2010; div. 2016)​\n",
    "\n",
    "Children\t≥14\n",
    "Parents\n",
    "\n",
    "    Errol Musk (father)\n",
    "    Maye Musk (mother)\n",
    "\n",
    "Relatives\tMusk family\n",
    "Education\tUniversity of Pennsylvania (BA, BS)\n",
    "Occupation\n",
    "\n",
    "    CEO and product architect of Tesla\n",
    "    Founder, CEO, and chief engineer of SpaceX\n",
    "    Founder and CEO of xAI\n",
    "    Founder of the Boring Company and X Corp.\n",
    "    Co-founder of Neuralink, OpenAI, Zip2, and X.com (part of PayPal)\n",
    "    President of the Musk Foundation\n",
    "\n",
    "Awards\tFull list\n",
    "'''\n",
    "\n",
    "def get_info(text):\n",
    "    name_pattern=get_pattern_match('Born(.*\\n)',text)\n",
    "    age_pattern=get_pattern_match('\\(age\\)* ([^\\n)]*)',text)\n",
    "    birth_place=get_pattern_match('\\(age \\)*.*\\n(.*\\n)',text)\n",
    "    birth_date=get_pattern_match('Born.*\\n(.*)\\(',text)\n",
    "\n",
    "    return{\n",
    "        \"Name\":name_pattern.strip(),\n",
    "        \"Age\":int(age_pattern),\n",
    "        \"Birth date\": birth_date.strip(),\n",
    "        \"Birth place\": birth_place.strip()\n",
    "    }\n",
    "\n",
    "def get_pattern_match(pattern,text):\n",
    "    match=re.findall(pattern,text)\n",
    "    if match:\n",
    "        return match[0]\n",
    "\n",
    "for i,j in get_info(text).items():\n",
    "    print(i,\":\",j)"
   ],
   "id": "6a06abbbf593e37b",
   "outputs": [
    {
     "name": "stdout",
     "output_type": "stream",
     "text": [
      "Name : Elon Reeve Musk\n",
      "Age : 54\n",
      "Birth date : June 28, 1971\n",
      "Birth place : Pretoria, South Africa\n"
     ]
    }
   ],
   "execution_count": 33
  }
 ],
 "metadata": {
  "kernelspec": {
   "display_name": "Python 3",
   "language": "python",
   "name": "python3"
  },
  "language_info": {
   "codemirror_mode": {
    "name": "ipython",
    "version": 2
   },
   "file_extension": ".py",
   "mimetype": "text/x-python",
   "name": "python",
   "nbconvert_exporter": "python",
   "pygments_lexer": "ipython2",
   "version": "2.7.6"
  }
 },
 "nbformat": 4,
 "nbformat_minor": 5
}
