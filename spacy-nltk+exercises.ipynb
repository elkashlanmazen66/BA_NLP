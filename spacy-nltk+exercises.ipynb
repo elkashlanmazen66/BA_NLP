{
 "cells": [
  {
   "metadata": {
    "ExecuteTime": {
     "end_time": "2025-08-24T14:37:53.103992Z",
     "start_time": "2025-08-24T14:37:46.210450Z"
    }
   },
   "cell_type": "code",
   "source": [
    "import spacy\n",
    "nlp=spacy.load(\"en_core_web_sm\")\n",
    "print(type(nlp))\n",
    "doc=nlp(\"Jack went to the park. Nobody was there\")\n",
    "for sent in doc.sents:\n",
    "  for word in sent:\n",
    "    print(word)"
   ],
   "id": "29e5687316205ab5",
   "outputs": [
    {
     "name": "stdout",
     "output_type": "stream",
     "text": [
      "<class 'spacy.lang.en.English'>\n",
      "Jack\n",
      "went\n",
      "to\n",
      "the\n",
      "park\n",
      ".\n",
      "Nobody\n",
      "was\n",
      "there\n"
     ]
    }
   ],
   "execution_count": 2
  },
  {
   "metadata": {
    "ExecuteTime": {
     "end_time": "2025-08-21T15:32:51.638981Z",
     "start_time": "2025-08-21T15:32:49.996553Z"
    }
   },
   "cell_type": "code",
   "source": [
    "from nltk.tokenize import sent_tokenize\n",
    "sent_tokenize(\"Mr. Mazen is home. Eng. Ahmed is at home also.\")"
   ],
   "id": "5a6b1cbb702c7892",
   "outputs": [
    {
     "data": {
      "text/plain": [
       "['Mr. Mazen is home.', 'Eng.', 'Ahmed is at home also.']"
      ]
     },
     "execution_count": 37,
     "metadata": {},
     "output_type": "execute_result"
    }
   ],
   "execution_count": 37
  },
  {
   "metadata": {
    "ExecuteTime": {
     "end_time": "2025-08-21T15:32:59.587777Z",
     "start_time": "2025-08-21T15:32:59.465913Z"
    }
   },
   "cell_type": "code",
   "source": [
    "nlp=spacy.blank(\"en\")\n",
    "doc=nlp(\"nine $ Let's got to N.Y. !'\")\n",
    "for token in doc:\n",
    "    print(token)\n",
    "print(type(nlp))\n",
    "print(type(doc))\n",
    "print(type(token))\n",
    "token0=doc[1]\n",
    "print(token0.is_alpha)\n",
    "print(token0.like_num)\n",
    "print(token0.is_currency)"
   ],
   "id": "f4840c8d9cfe712d",
   "outputs": [
    {
     "name": "stdout",
     "output_type": "stream",
     "text": [
      "nine\n",
      "$\n",
      "Let\n",
      "'s\n",
      "got\n",
      "to\n",
      "N.Y.\n",
      "!\n",
      "'\n",
      "<class 'spacy.lang.en.English'>\n",
      "<class 'spacy.tokens.doc.Doc'>\n",
      "<class 'spacy.tokens.token.Token'>\n",
      "False\n",
      "False\n",
      "True\n"
     ]
    }
   ],
   "execution_count": 39
  },
  {
   "metadata": {
    "ExecuteTime": {
     "end_time": "2025-08-20T20:07:40.860034Z",
     "start_time": "2025-08-20T20:07:40.853366Z"
    }
   },
   "cell_type": "code",
   "source": [
    "with open(\"students.txt\") as f:\n",
    "    text=(f.readlines())\n",
    "text='.'.join(text)\n",
    "doc=nlp(text)\n",
    "print(text)\n",
    "for i,token in enumerate(doc):\n",
    "    if doc[i].like_email:\n",
    "     print(doc[i].text)"
   ],
   "id": "d1ceb1ea5ef407dc",
   "outputs": [
    {
     "name": "stdout",
     "output_type": "stream",
     "text": [
      "Name\tbirth day\temail\n",
      ".----\t---------\t-----\n",
      ".Mazen\t11 August, 2005\tmizo@gmail.com\n",
      ".Ahmed \t22 August, 2009\tahmed@gmail.com\n",
      ".hassan  22 August, 2009 hoss@gmail.com\n",
      "mizo@gmail.com\n",
      "ahmed@gmail.com\n",
      "hoss@gmail.com\n"
     ]
    }
   ],
   "execution_count": 23
  },
  {
   "metadata": {
    "ExecuteTime": {
     "end_time": "2025-08-20T20:15:44.588262Z",
     "start_time": "2025-08-20T20:15:44.576886Z"
    }
   },
   "cell_type": "code",
   "source": [
    "from spacy.symbols import ORTH, LEMMA\n",
    "\n",
    "nlp.tokenizer.add_special_case(\"gimme\",[\n",
    "     {ORTH:\"gim\"},\n",
    "     {ORTH:\"me\"}\n",
    "])\n",
    "text=(\"gimme two extra fries!\")\n",
    "words=[doc.text for doc in nlp(text)]\n",
    "print(words)"
   ],
   "id": "5671d7d82b5f6a7f",
   "outputs": [
    {
     "name": "stdout",
     "output_type": "stream",
     "text": [
      "['gim', 'me', 'two', 'extra', 'fries', '!']\n"
     ]
    }
   ],
   "execution_count": 31
  },
  {
   "metadata": {
    "ExecuteTime": {
     "end_time": "2025-08-20T20:19:54.497011Z",
     "start_time": "2025-08-20T20:19:54.485767Z"
    }
   },
   "cell_type": "code",
   "source": [
    "doc=nlp(\"Mazen is Ahmed's brother. Ahmed is Mazen's brother\")\n",
    "for sent in doc.sents:\n",
    "    print(sent)"
   ],
   "id": "6307b6992af7a946",
   "outputs": [
    {
     "name": "stdout",
     "output_type": "stream",
     "text": [
      "Mazen is Ahmed's brother.\n",
      "Ahmed is Mazen's brother\n"
     ]
    }
   ],
   "execution_count": 34
  },
  {
   "metadata": {
    "ExecuteTime": {
     "end_time": "2025-08-20T20:25:12.219458Z",
     "start_time": "2025-08-20T20:25:12.214579Z"
    }
   },
   "cell_type": "code",
   "source": [
    "text='''\n",
    "Look for data to help you address the question. Governments are good\n",
    "sources because data from public research is often freely available. Good\n",
    "places to start include http://www.data.gov/, and http://www.science.\n",
    "gov/, and in the United Kingdom, http://data.gov.uk/.\n",
    "Two of my favorite data sets are the General Social Survey at http://www3.norc.org/gss+website/,\n",
    "and the European Social Survey at http://www.europeansocialsurvey.org/.\n",
    "'''\n",
    "websites_list=[token.text for token in doc if token.like_url]\n",
    "print(websites_list)"
   ],
   "id": "24156e1204b7aef5",
   "outputs": [
    {
     "name": "stdout",
     "output_type": "stream",
     "text": [
      "['http://www.data.gov/', 'http://www.science', 'http://data.gov.uk/.', 'http://www3.norc.org/gss+website/', 'http://www.europeansocialsurvey.org/.']\n"
     ]
    }
   ],
   "execution_count": 40
  },
  {
   "metadata": {
    "ExecuteTime": {
     "end_time": "2025-08-21T14:50:11.407864Z",
     "start_time": "2025-08-21T14:50:11.402898Z"
    }
   },
   "cell_type": "code",
   "source": [
    "transactions = \"Tony gave two $ to Peter, Bruce gave 500 € to Steve\"\n",
    "doc=nlp(transactions)\n",
    "cc=[token.text for token in doc if token.is_currency or token.like_num]\n",
    "merge_position=[(0,2),(2,4)]\n",
    "currency_and_amount= [' '.join(cc[start:end]) for start, end in merge_position]\n",
    "for i in currency_and_amount:\n",
    "    print(i)\n",
    "\n",
    "for i,token in enumerate(doc):\n",
    "    if token.like_num and doc[i+1].is_currency:\n",
    "        print(token.text,doc[i+1].text)"
   ],
   "id": "4005d2c42fc0dfdf",
   "outputs": [
    {
     "name": "stdout",
     "output_type": "stream",
     "text": [
      "two $\n",
      "500 €\n",
      "two $\n",
      "500 €\n"
     ]
    }
   ],
   "execution_count": 4
  },
  {
   "metadata": {
    "ExecuteTime": {
     "end_time": "2025-08-21T15:12:13.455711Z",
     "start_time": "2025-08-21T15:12:13.451585Z"
    }
   },
   "cell_type": "code",
   "source": [
    "transactions = \"Dr . Strange gave me two dollars. I went to the stadium.\"\n",
    "print(nlp.pipe_names)\n",
    "doc=nlp(transactions)\n",
    "for token in doc:\n",
    "    print(token)"
   ],
   "id": "55480ae62ee80e42",
   "outputs": [
    {
     "name": "stdout",
     "output_type": "stream",
     "text": [
      "['sentencizer']\n",
      "Dr\n",
      ".\n",
      "Strange\n",
      "gave\n",
      "me\n",
      "two\n",
      "dollars\n",
      ".\n",
      "I\n",
      "went\n",
      "to\n",
      "the\n",
      "stadium\n",
      ".\n"
     ]
    }
   ],
   "execution_count": 19
  },
  {
   "metadata": {
    "ExecuteTime": {
     "end_time": "2025-08-21T15:23:53.905124Z",
     "start_time": "2025-08-21T15:23:53.174289Z"
    }
   },
   "cell_type": "code",
   "source": [
    "nlp = spacy.load(\"en_core_web_sm\")\n",
    "transactions = \"Tony gave two $ to Peter, Bruce gave 500 € to Steve\"\n",
    "for token in nlp(transactions):\n",
    "    print(token,token.pos_,token.lemma_)"
   ],
   "id": "14c753d2af80725d",
   "outputs": [
    {
     "name": "stdout",
     "output_type": "stream",
     "text": [
      "Tony PROPN Tony\n",
      "gave VERB give\n",
      "two NUM two\n",
      "$ NUM $\n",
      "to ADP to\n",
      "Peter PROPN Peter\n",
      ", PUNCT ,\n",
      "Bruce PROPN Bruce\n",
      "gave VERB give\n",
      "500 NUM 500\n",
      "€ NOUN €\n",
      "to PART to\n",
      "Steve PROPN Steve\n"
     ]
    }
   ],
   "execution_count": 22
  },
  {
   "metadata": {
    "ExecuteTime": {
     "end_time": "2025-08-22T19:44:00.177774Z",
     "start_time": "2025-08-22T19:44:00.163355Z"
    }
   },
   "cell_type": "code",
   "source": [
    "doc = nlp(\"Tesla Inc is going to acquire twitter for $45 billion\")\n",
    "\n",
    "for ent in doc.ents:\n",
    "    print(ent.text, \" | \", ent.label_, \" | \", spacy.explain(ent.label_))\n",
    "\n",
    "html = spacy.displacy.render(doc, style=\"ent\", jupyter=False)\n",
    "\n",
    "from IPython.display import HTML\n",
    "HTML(html)"
   ],
   "id": "e6cb4bbce8b02184",
   "outputs": [
    {
     "name": "stdout",
     "output_type": "stream",
     "text": [
      "Tesla Inc  |  ORG  |  Companies, agencies, institutions, etc.\n",
      "$45 billion  |  MONEY  |  Monetary values, including unit\n"
     ]
    },
    {
     "data": {
      "text/plain": [
       "<IPython.core.display.HTML object>"
      ],
      "text/html": [
       "<div class=\"entities\" style=\"line-height: 2.5; direction: ltr\">\n",
       "<mark class=\"entity\" style=\"background: #7aecec; padding: 0.45em 0.6em; margin: 0 0.25em; line-height: 1; border-radius: 0.35em;\">\n",
       "    Tesla Inc\n",
       "    <span style=\"font-size: 0.8em; font-weight: bold; line-height: 1; border-radius: 0.35em; vertical-align: middle; margin-left: 0.5rem\">ORG</span>\n",
       "</mark>\n",
       " is going to acquire twitter for \n",
       "<mark class=\"entity\" style=\"background: #e4e7d2; padding: 0.45em 0.6em; margin: 0 0.25em; line-height: 1; border-radius: 0.35em;\">\n",
       "    $45 billion\n",
       "    <span style=\"font-size: 0.8em; font-weight: bold; line-height: 1; border-radius: 0.35em; vertical-align: middle; margin-left: 0.5rem\">MONEY</span>\n",
       "</mark>\n",
       "</div>"
      ]
     },
     "execution_count": 40,
     "metadata": {},
     "output_type": "execute_result"
    }
   ],
   "execution_count": 40
  },
  {
   "metadata": {
    "ExecuteTime": {
     "end_time": "2025-08-21T15:51:13.983366Z",
     "start_time": "2025-08-21T15:51:12.766786Z"
    }
   },
   "cell_type": "code",
   "source": [
    "nlp=spacy.load(\"de_core_news_sm\")\n",
    "text=\"Ich habe einen Laptop.\"\n",
    "doc=nlp(text)\n",
    "for token in nlp(text):\n",
    "    print(token,token.pos_,token.lemma_)"
   ],
   "id": "13f5715d093499d",
   "outputs": [
    {
     "name": "stdout",
     "output_type": "stream",
     "text": [
      "Ich PRON ich\n",
      "habe VERB haben\n",
      "einen DET ein\n",
      "Laptop NOUN Laptop\n",
      ". PUNCT --\n"
     ]
    }
   ],
   "execution_count": 60
  },
  {
   "metadata": {
    "ExecuteTime": {
     "end_time": "2025-08-21T16:00:32.631423Z",
     "start_time": "2025-08-21T16:00:31.719544Z"
    }
   },
   "cell_type": "code",
   "source": [
    "source_nlp=spacy.load(\"en_core_web_sm\")\n",
    "nlp=spacy.blank(\"en\")\n",
    "nlp.add_pipe(\"ner\",source=source_nlp)\n",
    "nlp.pipe_names\n",
    "doc = nlp(\"Tesla Inc is going to acquire twitter for $45 billion\")\n",
    "\n",
    "for ent in doc.ents:\n",
    "    print(ent.text, \" | \", ent.label_, \" | \", spacy.explain(ent.label_))\n"
   ],
   "id": "b6b06f33307f7c4c",
   "outputs": [
    {
     "name": "stdout",
     "output_type": "stream",
     "text": [
      "Tesla Inc  |  ORG  |  Companies, agencies, institutions, etc.\n",
      "$45 billion  |  MONEY  |  Monetary values, including unit\n"
     ]
    }
   ],
   "execution_count": 66
  },
  {
   "metadata": {
    "ExecuteTime": {
     "end_time": "2025-08-22T19:39:12.669300Z",
     "start_time": "2025-08-22T19:39:08.940724Z"
    }
   },
   "cell_type": "code",
   "source": [
    "from nltk.stem import PorterStemmer\n",
    "stemmer=PorterStemmer()\n",
    "words = [\"eating\", \"eats\", \"eat\", \"ate\", \"adjustable\", \"rafting\", \"ability\", \"meeting\"]\n",
    "sentence_of_words=\"\"\n",
    "for i in words:\n",
    "    sentence_of_words+=i\n",
    "    sentence_of_words+=\" \"\n",
    "for word in words:\n",
    "    print(word,stemmer.stem(word))"
   ],
   "id": "437864e24d1ec18b",
   "outputs": [
    {
     "name": "stdout",
     "output_type": "stream",
     "text": [
      "eating eat\n",
      "eats eat\n",
      "eat eat\n",
      "ate ate\n",
      "adjustable adjust\n",
      "rafting raft\n",
      "ability abil\n",
      "meeting meet\n"
     ]
    }
   ],
   "execution_count": 27
  },
  {
   "metadata": {
    "ExecuteTime": {
     "end_time": "2025-08-22T19:39:15.308235Z",
     "start_time": "2025-08-22T19:39:14.852395Z"
    }
   },
   "cell_type": "code",
   "source": [
    "nlp=spacy.load(\"en_core_web_sm\")\n",
    "sentence_of_words+=\"Brother Bro Bruh\"\n",
    "ar=nlp.get_pipe(\"attribute_ruler\")\n",
    "ar.add([[{\"Text\":\"Bro\"}],[{\"Text\":\"Bruh\"}]],{\"LEMMA\":\"Brother\"})\n",
    "for token in nlp(sentence_of_words):\n",
    "    print(token,\"|\",token.lemma_,\"||\",token.pos_,\"|\",spacy.explain(token.tag_),\"|\")"
   ],
   "id": "9b553be620f53d74",
   "outputs": [
    {
     "name": "stdout",
     "output_type": "stream",
     "text": [
      "eating | eat || VERB | verb, gerund or present participle |\n",
      "eats | eat || NOUN | noun, plural |\n",
      "eat | eat || VERB | verb, non-3rd person singular present |\n",
      "ate | eat || VERB | verb, past tense |\n",
      "adjustable | adjustable || ADJ | adjective (English), other noun-modifier (Chinese) |\n",
      "rafting | raft || VERB | verb, gerund or present participle |\n",
      "ability | ability || NOUN | noun, singular or mass |\n",
      "meeting | meet || VERB | verb, gerund or present participle |\n",
      "Brother | Brother || PROPN | noun, proper singular |\n",
      "Bro | Brother || PROPN | noun, proper singular |\n",
      "Bruh | Brother || PROPN | noun, proper singular |\n"
     ]
    }
   ],
   "execution_count": 28
  },
  {
   "metadata": {
    "ExecuteTime": {
     "end_time": "2025-08-22T19:39:17.328127Z",
     "start_time": "2025-08-22T19:39:17.263674Z"
    }
   },
   "cell_type": "code",
   "source": [
    "earnings_text=\"\"\"etc Microsoft Corp. today announced the following results for the quarter ended December 31, 2021, as compared to the corresponding period of last fiscal year:\n",
    "\n",
    "·         Revenue was $51.7 billion and increased 20%\n",
    "·         Operating income was $22.2 billion and increased 24%\n",
    "·         Net income was $18.8 billion and increased 21%\n",
    "·         Diluted earnings per share was $2.48 and increased 22%\n",
    "“Digital technology is the most malleable resource at the world’s disposal to overcome constraints and reimagine everyday work and life,” said Satya Nadella, chairman and chief executive officer of Microsoft. “As tech as a percentage of global GDP continues to increase, we are innovating and investing across diverse and growing markets, with a common underlying technology stack and an operating model that reinforces a common strategy, culture, and sense of purpose.”\n",
    "“Solid commercial execution, represented by strong bookings growth driven by long-term Azure commitments, increased Microsoft Cloud revenue to $22.1 billion, up 32% year over year” said Amy Hood, executive vice president and chief financial officer of Microsoft.\"\"\"\n",
    "doc=nlp(earnings_text)\n",
    "filter_tokens=[]\n",
    "for token in doc:\n",
    "    if token.pos_ not in [\"SPACE\",\"X\",\"PUNCT\"]:\n",
    "      filter_tokens.append(token.text)\n",
    "print(filter_tokens)\n",
    "a=' '.join(filter_tokens)\n",
    "a\n"
   ],
   "id": "6139a7cad72c49a7",
   "outputs": [
    {
     "name": "stdout",
     "output_type": "stream",
     "text": [
      "['Microsoft', 'Corp.', 'today', 'announced', 'the', 'following', 'results', 'for', 'the', 'quarter', 'ended', 'December', '31', '2021', 'as', 'compared', 'to', 'the', 'corresponding', 'period', 'of', 'last', 'fiscal', 'year', 'Revenue', 'was', '$', '51.7', 'billion', 'and', 'increased', '20', '%', 'Operating', 'income', 'was', '$', '22.2', 'billion', 'and', 'increased', '24', '%', 'Net', 'income', 'was', '$', '18.8', 'billion', 'and', 'increased', '21', '%', 'Diluted', 'earnings', 'per', 'share', 'was', '$', '2.48', 'and', 'increased', '22', '%', 'Digital', 'technology', 'is', 'the', 'most', 'malleable', 'resource', 'at', 'the', 'world', '’s', 'disposal', 'to', 'overcome', 'constraints', 'and', 'reimagine', 'everyday', 'work', 'and', 'life', 'said', 'Satya', 'Nadella', 'chairman', 'and', 'chief', 'executive', 'officer', 'of', 'Microsoft', 'As', 'tech', 'as', 'a', 'percentage', 'of', 'global', 'GDP', 'continues', 'to', 'increase', 'we', 'are', 'innovating', 'and', 'investing', 'across', 'diverse', 'and', 'growing', 'markets', 'with', 'a', 'common', 'underlying', 'technology', 'stack', 'and', 'an', 'operating', 'model', 'that', 'reinforces', 'a', 'common', 'strategy', 'culture', 'and', 'sense', 'of', 'purpose', 'Solid', 'commercial', 'execution', 'represented', 'by', 'strong', 'bookings', 'growth', 'driven', 'by', 'long', 'term', 'Azure', 'commitments', 'increased', 'Microsoft', 'Cloud', 'revenue', 'to', '$', '22.1', 'billion', 'up', '32', '%', 'year', 'over', 'year', 'said', 'Amy', 'Hood', 'executive', 'vice', 'president', 'and', 'chief', 'financial', 'officer', 'of', 'Microsoft']\n"
     ]
    },
    {
     "data": {
      "text/plain": [
       "'Microsoft Corp. today announced the following results for the quarter ended December 31 2021 as compared to the corresponding period of last fiscal year Revenue was $ 51.7 billion and increased 20 % Operating income was $ 22.2 billion and increased 24 % Net income was $ 18.8 billion and increased 21 % Diluted earnings per share was $ 2.48 and increased 22 % Digital technology is the most malleable resource at the world ’s disposal to overcome constraints and reimagine everyday work and life said Satya Nadella chairman and chief executive officer of Microsoft As tech as a percentage of global GDP continues to increase we are innovating and investing across diverse and growing markets with a common underlying technology stack and an operating model that reinforces a common strategy culture and sense of purpose Solid commercial execution represented by strong bookings growth driven by long term Azure commitments increased Microsoft Cloud revenue to $ 22.1 billion up 32 % year over year said Amy Hood executive vice president and chief financial officer of Microsoft'"
      ]
     },
     "execution_count": 29,
     "metadata": {},
     "output_type": "execute_result"
    }
   ],
   "execution_count": 29
  },
  {
   "metadata": {
    "ExecuteTime": {
     "end_time": "2025-08-22T19:39:19.909859Z",
     "start_time": "2025-08-22T19:39:19.904705Z"
    }
   },
   "cell_type": "code",
   "source": [
    "count=doc.count_by(spacy.attrs.POS)\n",
    "count\n",
    "for j,k in count.items():\n",
    "    print(doc.vocab[j].text,\":\",k)"
   ],
   "id": "21e3b621608cc5cf",
   "outputs": [
    {
     "name": "stdout",
     "output_type": "stream",
     "text": [
      "X : 1\n",
      "PROPN : 15\n",
      "NOUN : 45\n",
      "VERB : 23\n",
      "DET : 9\n",
      "ADP : 16\n",
      "NUM : 16\n",
      "PUNCT : 27\n",
      "SCONJ : 1\n",
      "ADJ : 20\n",
      "SPACE : 10\n",
      "AUX : 6\n",
      "SYM : 5\n",
      "CCONJ : 12\n",
      "ADV : 3\n",
      "PART : 3\n",
      "PRON : 2\n"
     ]
    }
   ],
   "execution_count": 30
  },
  {
   "metadata": {
    "ExecuteTime": {
     "end_time": "2025-08-22T19:39:22.275023Z",
     "start_time": "2025-08-22T19:39:22.191147Z"
    }
   },
   "cell_type": "code",
   "source": [
    "with open(\"news_story.txt\",mode=\"r\") as f:\n",
    "    text=f.readlines()\n",
    "    text=\" \".join(text)\n",
    "doc=nlp(text)\n",
    "count_nouns=[]\n",
    "numbers_in_file=[]\n",
    "pos=[]\n",
    "for token in doc:\n",
    "    print(token,\":\",spacy.explain(token.tag_),\":\",token.lemma_)\n",
    "    if token.tag_==\"POS\":\n",
    "        pos.append(token.text)\n",
    "    if token.pos_==\"NOUN\":\n",
    "        count_nouns.append(token.text)\n",
    "    if token.pos_==\"NUM\":\n",
    "        numbers_in_file.append(token.text)\n",
    "print(count_nouns)\n",
    "print(\"Number of Nouns:\",len(count_nouns))\n",
    "print(numbers_in_file)\n",
    "print(\"Number of Numbers in text:\",len(numbers_in_file))\n",
    "print(pos)"
   ],
   "id": "68cfdea14bab4fbb",
   "outputs": [
    {
     "name": "stdout",
     "output_type": "stream",
     "text": [
      "Inflation : noun, singular or mass : inflation\n",
      "rose : verb, past tense : rise\n",
      "again : adverb : again\n",
      "in : conjunction, subordinating or preposition : in\n",
      "April : noun, proper singular : April\n",
      ", : punctuation mark, comma : ,\n",
      "continuing : verb, gerund or present participle : continue\n",
      "a : determiner : a\n",
      "climb : noun, singular or mass : climb\n",
      "that : wh-determiner : that\n",
      "has : verb, 3rd person singular present : have\n",
      "pushed : verb, past participle : push\n",
      "consumers : noun, plural : consumer\n",
      "to : conjunction, subordinating or preposition : to\n",
      "the : determiner : the\n",
      "brink : noun, singular or mass : brink\n",
      "and : conjunction, coordinating : and\n",
      "is : verb, 3rd person singular present : be\n",
      "threatening : verb, gerund or present participle : threaten\n",
      "the : determiner : the\n",
      "economic : adjective (English), other noun-modifier (Chinese) : economic\n",
      "expansion : noun, singular or mass : expansion\n",
      ", : punctuation mark, comma : ,\n",
      "the : determiner : the\n",
      "Bureau : noun, proper singular : Bureau\n",
      "of : conjunction, subordinating or preposition : of\n",
      "Labor : noun, proper singular : Labor\n",
      "Statistics : noun, proper plural : Statistics\n",
      "reported : verb, past tense : report\n",
      "Wednesday : noun, proper singular : Wednesday\n",
      ". : punctuation mark, sentence closer : .\n",
      "\n",
      " \n",
      "  : whitespace : \n",
      " \n",
      " \n",
      "The : determiner : the\n",
      "consumer : noun, singular or mass : consumer\n",
      "price : noun, singular or mass : price\n",
      "index : noun, singular or mass : index\n",
      ", : punctuation mark, comma : ,\n",
      "a : determiner : a\n",
      "broad : adverb : broad\n",
      "- : punctuation mark, hyphen : -\n",
      "based : verb, past participle : base\n",
      "measure : noun, singular or mass : measure\n",
      "of : conjunction, subordinating or preposition : of\n",
      "prices : noun, plural : price\n",
      "for : conjunction, subordinating or preposition : for\n",
      "goods : noun, plural : good\n",
      "and : conjunction, coordinating : and\n",
      "services : noun, plural : service\n",
      ", : punctuation mark, comma : ,\n",
      "increased : verb, past tense : increase\n",
      "8.3 : cardinal number : 8.3\n",
      "% : noun, singular or mass : %\n",
      "from : conjunction, subordinating or preposition : from\n",
      "a : determiner : a\n",
      "year : noun, singular or mass : year\n",
      "ago : adverb : ago\n",
      ", : punctuation mark, comma : ,\n",
      "higher : adjective, comparative : high\n",
      "than : conjunction, subordinating or preposition : than\n",
      "the : determiner : the\n",
      "Dow : noun, proper singular : Dow\n",
      "Jones : noun, proper singular : Jones\n",
      "estimate : noun, singular or mass : estimate\n",
      "for : conjunction, subordinating or preposition : for\n",
      "an : determiner : an\n",
      "8.1 : cardinal number : 8.1\n",
      "% : noun, singular or mass : %\n",
      "gain : noun, singular or mass : gain\n",
      ". : punctuation mark, sentence closer : .\n",
      "That : determiner : that\n",
      "represented : verb, past tense : represent\n",
      "a : determiner : a\n",
      "slight : adjective (English), other noun-modifier (Chinese) : slight\n",
      "ease : noun, singular or mass : ease\n",
      "from : conjunction, subordinating or preposition : from\n",
      "Marchâ€ : noun, proper plural : Marchâ€\n",
      "™ : noun, proper singular : ™\n",
      "s : possessive ending : s\n",
      "peak : noun, singular or mass : peak\n",
      "but : conjunction, coordinating : but\n",
      "was : verb, past tense : be\n",
      "still : adverb : still\n",
      "close : adjective (English), other noun-modifier (Chinese) : close\n",
      "to : conjunction, subordinating or preposition : to\n",
      "the : determiner : the\n",
      "highest : adjective, superlative : high\n",
      "level : noun, singular or mass : level\n",
      "since : conjunction, subordinating or preposition : since\n",
      "the : determiner : the\n",
      "summer : noun, singular or mass : summer\n",
      "of : conjunction, subordinating or preposition : of\n",
      "1982 : cardinal number : 1982\n",
      ". : punctuation mark, sentence closer : .\n",
      "\n",
      " \n",
      "  : whitespace : \n",
      " \n",
      " \n",
      "Removing : verb, gerund or present participle : remove\n",
      "volatile : adjective (English), other noun-modifier (Chinese) : volatile\n",
      "food : noun, singular or mass : food\n",
      "and : conjunction, coordinating : and\n",
      "energy : noun, singular or mass : energy\n",
      "prices : noun, plural : price\n",
      ", : punctuation mark, comma : ,\n",
      "so : adverb : so\n",
      "- : punctuation mark, hyphen : -\n",
      "called : verb, past participle : call\n",
      "core : noun, singular or mass : core\n",
      "CPI : noun, proper singular : CPI\n",
      "still : adverb : still\n",
      "rose : verb, past tense : rise\n",
      "6.2 : cardinal number : 6.2\n",
      "% : noun, singular or mass : %\n",
      ", : punctuation mark, comma : ,\n",
      "against : conjunction, subordinating or preposition : against\n",
      "expectations : noun, plural : expectation\n",
      "for : conjunction, subordinating or preposition : for\n",
      "a : determiner : a\n",
      "6 : cardinal number : 6\n",
      "% : noun, singular or mass : %\n",
      "gain : noun, singular or mass : gain\n",
      ", : punctuation mark, comma : ,\n",
      "clouding : verb, gerund or present participle : cloud\n",
      "hopes : noun, plural : hope\n",
      "that : conjunction, subordinating or preposition : that\n",
      "inflation : noun, singular or mass : inflation\n",
      "had : verb, past tense : have\n",
      "peaked : verb, past participle : peak\n",
      "in : conjunction, subordinating or preposition : in\n",
      "March : noun, proper singular : March\n",
      ". : punctuation mark, sentence closer : .\n",
      "\n",
      " \n",
      "  : whitespace : \n",
      " \n",
      " \n",
      "The : determiner : the\n",
      "month : noun, singular or mass : month\n",
      "- : punctuation mark, hyphen : -\n",
      "over : conjunction, subordinating or preposition : over\n",
      "- : punctuation mark, hyphen : -\n",
      "month : noun, singular or mass : month\n",
      "gains : noun, plural : gain\n",
      "also : adverb : also\n",
      "were : verb, past tense : be\n",
      "higher : adjective, comparative : high\n",
      "than : conjunction, subordinating or preposition : than\n",
      "expectations : noun, plural : expectation\n",
      "â€ : noun, proper singular : â€\n",
      "” : closing quotation mark : \"\n",
      "0.3 : cardinal number : 0.3\n",
      "% : noun, singular or mass : %\n",
      "on : conjunction, subordinating or preposition : on\n",
      "headline : noun, singular or mass : headline\n",
      "CPI : noun, proper singular : CPI\n",
      "versus : conjunction, subordinating or preposition : versus\n",
      "the : determiner : the\n",
      "0.2 : cardinal number : 0.2\n",
      "% : noun, singular or mass : %\n",
      "estimate : noun, singular or mass : estimate\n",
      "and : conjunction, coordinating : and\n",
      "a : determiner : a\n",
      "0.6 : cardinal number : 0.6\n",
      "% : noun, singular or mass : %\n",
      "increase : noun, singular or mass : increase\n",
      "for : conjunction, subordinating or preposition : for\n",
      "core : noun, singular or mass : core\n",
      ", : punctuation mark, comma : ,\n",
      "against : conjunction, subordinating or preposition : against\n",
      "the : determiner : the\n",
      "outlook : noun, singular or mass : outlook\n",
      "for : conjunction, subordinating or preposition : for\n",
      "a : determiner : a\n",
      "0.4 : cardinal number : 0.4\n",
      "% : noun, singular or mass : %\n",
      "gain : noun, singular or mass : gain\n",
      ". : punctuation mark, sentence closer : .\n",
      "\n",
      " \n",
      "  : whitespace : \n",
      " \n",
      " \n",
      "The : determiner : the\n",
      "price : noun, singular or mass : price\n",
      "gains : noun, plural : gain\n",
      "also : adverb : also\n",
      "meant : verb, past tense : mean\n",
      "that : conjunction, subordinating or preposition : that\n",
      "workers : noun, plural : worker\n",
      "continued : verb, past tense : continue\n",
      "to : infinitival \"to\" : to\n",
      "lose : verb, base form : lose\n",
      "ground : noun, singular or mass : ground\n",
      ". : punctuation mark, sentence closer : .\n",
      "Real : adjective (English), other noun-modifier (Chinese) : real\n",
      "wages : noun, plural : wage\n",
      "adjusted : verb, past participle : adjust\n",
      "for : conjunction, subordinating or preposition : for\n",
      "inflation : noun, singular or mass : inflation\n",
      "decreased : verb, past tense : decrease\n",
      "0.1 : cardinal number : 0.1\n",
      "% : noun, singular or mass : %\n",
      "on : conjunction, subordinating or preposition : on\n",
      "the : determiner : the\n",
      "month : noun, singular or mass : month\n",
      "despite : conjunction, subordinating or preposition : despite\n",
      "a : determiner : a\n",
      "nominal : adjective (English), other noun-modifier (Chinese) : nominal\n",
      "increase : noun, singular or mass : increase\n",
      "of : conjunction, subordinating or preposition : of\n",
      "0.3 : cardinal number : 0.3\n",
      "% : noun, singular or mass : %\n",
      "in : conjunction, subordinating or preposition : in\n",
      "average : adjective (English), other noun-modifier (Chinese) : average\n",
      "hourly : adjective (English), other noun-modifier (Chinese) : hourly\n",
      "earnings : noun, plural : earning\n",
      ". : punctuation mark, sentence closer : .\n",
      "Over : conjunction, subordinating or preposition : over\n",
      "the : determiner : the\n",
      "past : adjective (English), other noun-modifier (Chinese) : past\n",
      "year : noun, singular or mass : year\n",
      ", : punctuation mark, comma : ,\n",
      "real : adjective (English), other noun-modifier (Chinese) : real\n",
      "earnings : noun, plural : earning\n",
      "have : verb, non-3rd person singular present : have\n",
      "dropped : verb, past participle : drop\n",
      "2.6 : cardinal number : 2.6\n",
      "% : noun, singular or mass : %\n",
      "even : adverb : even\n",
      "though : conjunction, subordinating or preposition : though\n",
      "average : adjective (English), other noun-modifier (Chinese) : average\n",
      "hourly : adjective (English), other noun-modifier (Chinese) : hourly\n",
      "earnings : noun, plural : earning\n",
      "are : verb, non-3rd person singular present : be\n",
      "up : adverb : up\n",
      "5.5 : cardinal number : 5.5\n",
      "% : noun, singular or mass : %\n",
      ". : punctuation mark, sentence closer : .\n",
      "\n",
      " \n",
      "  : whitespace : \n",
      " \n",
      " \n",
      "Inflation : noun, proper singular : Inflation\n",
      "has : verb, 3rd person singular present : have\n",
      "been : verb, past participle : be\n",
      "the : determiner : the\n",
      "single : adjective (English), other noun-modifier (Chinese) : single\n",
      "biggest : adjective, superlative : big\n",
      "threat : noun, singular or mass : threat\n",
      "to : conjunction, subordinating or preposition : to\n",
      "a : determiner : a\n",
      "recovery : noun, singular or mass : recovery\n",
      "that : wh-determiner : that\n",
      "began : verb, past tense : begin\n",
      "early : adverb : early\n",
      "in : conjunction, subordinating or preposition : in\n",
      "the : determiner : the\n",
      "Covid : noun, proper singular : Covid\n",
      "pandemic : noun, singular or mass : pandemic\n",
      "and : conjunction, coordinating : and\n",
      "saw : verb, past tense : see\n",
      "the : determiner : the\n",
      "economy : noun, singular or mass : economy\n",
      "in : conjunction, subordinating or preposition : in\n",
      "2021 : cardinal number : 2021\n",
      "stage : noun, singular or mass : stage\n",
      "its : pronoun, possessive : its\n",
      "biggest : adjective, superlative : big\n",
      "single : adjective (English), other noun-modifier (Chinese) : single\n",
      "- : punctuation mark, hyphen : -\n",
      "year : noun, singular or mass : year\n",
      "growth : noun, singular or mass : growth\n",
      "level : noun, singular or mass : level\n",
      "since : conjunction, subordinating or preposition : since\n",
      "1984 : cardinal number : 1984\n",
      ". : punctuation mark, sentence closer : .\n",
      "Rising : verb, gerund or present participle : rise\n",
      "prices : noun, plural : price\n",
      "at : conjunction, subordinating or preposition : at\n",
      "the : determiner : the\n",
      "pump : noun, singular or mass : pump\n",
      "and : conjunction, coordinating : and\n",
      "in : conjunction, subordinating or preposition : in\n",
      "grocery : noun, singular or mass : grocery\n",
      "stores : noun, plural : store\n",
      "have : verb, non-3rd person singular present : have\n",
      "been : verb, past participle : be\n",
      "one : cardinal number : one\n",
      "problem : noun, singular or mass : problem\n",
      ", : punctuation mark, comma : ,\n",
      "but : conjunction, coordinating : but\n",
      "inflation : noun, singular or mass : inflation\n",
      "has : verb, 3rd person singular present : have\n",
      "spread : verb, past participle : spread\n",
      "beyond : conjunction, subordinating or preposition : beyond\n",
      "those : determiner : those\n",
      "two : cardinal number : two\n",
      "areas : noun, plural : area\n",
      "into : conjunction, subordinating or preposition : into\n",
      "housing : noun, singular or mass : housing\n",
      ", : punctuation mark, comma : ,\n",
      "auto : noun, singular or mass : auto\n",
      "sales : noun, plural : sale\n",
      "and : conjunction, coordinating : and\n",
      "a : determiner : a\n",
      "host : noun, singular or mass : host\n",
      "of : conjunction, subordinating or preposition : of\n",
      "other : adjective (English), other noun-modifier (Chinese) : other\n",
      "areas : noun, plural : area\n",
      ". : punctuation mark, sentence closer : .\n",
      "\n",
      " \n",
      "  : whitespace : \n",
      " \n",
      " \n",
      "Federal : noun, proper singular : Federal\n",
      "Reserve : noun, proper singular : Reserve\n",
      "officials : noun, plural : official\n",
      "have : verb, non-3rd person singular present : have\n",
      "responded : verb, past participle : respond\n",
      "to : conjunction, subordinating or preposition : to\n",
      "the : determiner : the\n",
      "problem : noun, singular or mass : problem\n",
      "with : conjunction, subordinating or preposition : with\n",
      "two : cardinal number : two\n",
      "interest : noun, singular or mass : interest\n",
      "rate : noun, singular or mass : rate\n",
      "hikes : noun, plural : hike\n",
      "so : adverb : so\n",
      "far : adverb : far\n",
      "this : determiner : this\n",
      "year : noun, singular or mass : year\n",
      "and : conjunction, coordinating : and\n",
      "pledges : noun, plural : pledge\n",
      "of : conjunction, subordinating or preposition : of\n",
      "more : adjective, comparative : more\n",
      "until : conjunction, subordinating or preposition : until\n",
      "inflation : noun, singular or mass : inflation\n",
      "comes : verb, 3rd person singular present : come\n",
      "down : adverb, particle : down\n",
      "to : conjunction, subordinating or preposition : to\n",
      "the : determiner : the\n",
      "central : adjective (English), other noun-modifier (Chinese) : central\n",
      "bankâ€ : noun, proper singular : bankâ€\n",
      "™ : noun, proper singular : ™\n",
      "s : possessive ending : s\n",
      "2 : cardinal number : 2\n",
      "% : noun, singular or mass : %\n",
      "goal : noun, singular or mass : goal\n",
      ". : punctuation mark, sentence closer : .\n",
      "However : adverb : however\n",
      ", : punctuation mark, comma : ,\n",
      "Wednesdayâ€ : noun, proper singular : Wednesdayâ€\n",
      "™ : noun, plural : ™\n",
      "s : possessive ending : s\n",
      "data : noun, singular or mass : data\n",
      "shows : verb, 3rd person singular present : show\n",
      "that : conjunction, subordinating or preposition : that\n",
      "the : determiner : the\n",
      "Fed : noun, proper singular : Fed\n",
      "has : verb, 3rd person singular present : have\n",
      "a : determiner : a\n",
      "big : adjective (English), other noun-modifier (Chinese) : big\n",
      "job : noun, singular or mass : job\n",
      "ahead : adverb : ahead\n",
      ". : punctuation mark, sentence closer : .\n",
      "\n",
      " \n",
      "  : whitespace : \n",
      " \n",
      " \n",
      "Credits : noun, plural : credit\n",
      ": : punctuation mark, colon or ellipsis : :\n",
      "cnbc.com : email : cnbc.com\n",
      "['Inflation', 'climb', 'consumers', 'brink', 'expansion', 'consumer', 'price', 'index', 'measure', 'prices', 'goods', 'services', '%', 'year', 'estimate', '%', 'gain', 'ease', 'peak', 'level', 'summer', 'food', 'energy', 'prices', 'core', '%', 'expectations', '%', 'gain', 'hopes', 'inflation', 'month', 'month', 'gains', 'expectations', '%', 'headline', '%', 'estimate', '%', 'increase', 'core', 'outlook', '%', 'gain', 'price', 'gains', 'workers', 'ground', 'wages', 'inflation', '%', 'month', 'increase', '%', 'earnings', 'year', 'earnings', '%', 'earnings', '%', 'threat', 'recovery', 'pandemic', 'economy', 'stage', 'year', 'growth', 'level', 'prices', 'pump', 'grocery', 'stores', 'problem', 'inflation', 'areas', 'housing', 'auto', 'sales', 'host', 'areas', 'officials', 'problem', 'interest', 'rate', 'hikes', 'year', 'pledges', 'inflation', '%', 'goal', '™', 'data', 'job', 'Credits']\n",
      "Number of Nouns: 95\n",
      "['8.3', '8.1', '1982', '6.2', '6', '0.3', '0.2', '0.6', '0.4', '0.1', '0.3', '2.6', '5.5', '2021', '1984', 'one', 'two', 'two', '2']\n",
      "Number of Numbers in text: 19\n",
      "['s', 's', 's']\n"
     ]
    }
   ],
   "execution_count": 31
  },
  {
   "metadata": {
    "ExecuteTime": {
     "end_time": "2025-08-22T19:40:47.747822Z",
     "start_time": "2025-08-22T19:40:47.741669Z"
    }
   },
   "cell_type": "code",
   "source": [
    "count=doc.count_by(spacy.attrs.POS)\n",
    "count\n",
    "for j,k in count.items():\n",
    "    print(doc.vocab[j].text,\":\",k)"
   ],
   "id": "9f39c7985fe5253e",
   "outputs": [
    {
     "name": "stdout",
     "output_type": "stream",
     "text": [
      "NOUN : 95\n",
      "VERB : 27\n",
      "ADV : 15\n",
      "ADP : 39\n",
      "PROPN : 21\n",
      "PUNCT : 32\n",
      "DET : 34\n",
      "PRON : 4\n",
      "AUX : 13\n",
      "CCONJ : 10\n",
      "ADJ : 23\n",
      "SPACE : 7\n",
      "NUM : 19\n",
      "PART : 4\n",
      "SCONJ : 8\n",
      "X : 1\n"
     ]
    }
   ],
   "execution_count": 33
  },
  {
   "metadata": {
    "ExecuteTime": {
     "end_time": "2025-08-22T19:51:36.693358Z",
     "start_time": "2025-08-22T19:51:35.937487Z"
    }
   },
   "cell_type": "code",
   "source": [
    "nlp=spacy.load(\"en_core_web_sm\")\n",
    "transactions = \"Tony gave two $ to Peter, Bruce gave 500 € to Steve\"\n",
    "doc=nlp(transactions)\n",
    "for token in doc.ents:\n",
    "    print(token.text,token.label_,spacy.explain(token.label_))"
   ],
   "id": "d0086ce82f39dfd3",
   "outputs": [
    {
     "name": "stdout",
     "output_type": "stream",
     "text": [
      "Tony PERSON People, including fictional\n",
      "Peter, Bruce gave ORG Companies, agencies, institutions, etc.\n",
      "500 € MONEY Monetary values, including unit\n",
      "Steve PERSON People, including fictional\n"
     ]
    }
   ],
   "execution_count": 43
  },
  {
   "metadata": {
    "ExecuteTime": {
     "end_time": "2025-08-22T19:58:56.974369Z",
     "start_time": "2025-08-22T19:58:56.960430Z"
    }
   },
   "cell_type": "code",
   "source": [
    "doc = nlp(\"Tesla Inc is going to buy Twitter Inc for $45 billion\")\n",
    "count=doc.count_by(spacy.attrs.POS)\n",
    "for i,j in count.items():\n",
    "    print(doc.vocab[i].text,\":\",j)\n",
    "for ent in doc.ents:\n",
    "    print(ent.text, \" | \", ent.label_, \" | \", spacy.explain(ent.label_))"
   ],
   "id": "42ae1971537236d5",
   "outputs": [
    {
     "name": "stdout",
     "output_type": "stream",
     "text": [
      "PROPN : 4\n",
      "AUX : 1\n",
      "VERB : 2\n",
      "PART : 1\n",
      "ADP : 1\n",
      "SYM : 1\n",
      "NUM : 2\n",
      "Tesla Inc  |  ORG  |  Companies, agencies, institutions, etc.\n",
      "Twitter Inc  |  PERSON  |  People, including fictional\n",
      "$45 billion  |  MONEY  |  Monetary values, including unit\n"
     ]
    }
   ],
   "execution_count": 51
  },
  {
   "metadata": {
    "ExecuteTime": {
     "end_time": "2025-08-22T20:42:12.393893Z",
     "start_time": "2025-08-22T20:42:12.377426Z"
    }
   },
   "cell_type": "code",
   "source": [
    "doc = nlp(\"Tesla Inc is going to buy Twitter Inc for $45 billion\")\n",
    "from spacy.tokens import Span\n",
    "s1=Span(doc,0,1,label=\"ORG\")\n",
    "s2=Span(doc,6,8,label=\"ORG\")\n",
    "doc.set_ents([s1,s2],default=\"unmodified\")\n",
    "for ent in doc.ents:\n",
    "    print(ent.text, \" | \", ent.label_, \" | \", spacy.explain(ent.label_))"
   ],
   "id": "656a395644851e99",
   "outputs": [
    {
     "name": "stdout",
     "output_type": "stream",
     "text": [
      "Tesla Inc  |  ORG  |  Companies, agencies, institutions, etc.\n",
      "Twitter Inc  |  ORG  |  Companies, agencies, institutions, etc.\n",
      "$45 billion  |  MONEY  |  Monetary values, including unit\n"
     ]
    }
   ],
   "execution_count": 69
  },
  {
   "metadata": {
    "ExecuteTime": {
     "end_time": "2025-08-22T20:45:56.432162Z",
     "start_time": "2025-08-22T20:45:56.405285Z"
    }
   },
   "cell_type": "code",
   "source": [
    "text = \"\"\"Kiran want to know the famous foods in each state of India. So, he opened Google and search for this question. Google showed that\n",
    "in Delhi it is Chaat, in Gujarat it is Dal Dhokli, in Tamilnadu it is Pongal, in Andhrapradesh it is Biryani, in Assam it is Papaya Khar,\n",
    "in Bihar it is Litti Chowkha and so on for all other states\"\"\"\n",
    "doc=nlp(text)\n",
    "s_kiran=Span(doc,0,1,label=\"PERSON\")\n",
    "doc.set_ents([s_kiran],default=\"unmodified\")\n",
    "countries=[ent.text for ent in doc.ents if ent.label_==\"GPE\"]\n",
    "print(\"Geographical location Names:\",(countries))\n",
    "print(\"Count:\",len(countries))"
   ],
   "id": "7de6d11293bbe7fc",
   "outputs": [
    {
     "name": "stdout",
     "output_type": "stream",
     "text": [
      "Geographical location Names: ['India', 'Delhi', 'Gujarat', 'Tamilnadu', 'Andhrapradesh', 'Assam', 'Bihar']\n",
      "Count: 7\n"
     ]
    }
   ],
   "execution_count": 76
  },
  {
   "metadata": {
    "ExecuteTime": {
     "end_time": "2025-08-22T22:13:26.401829Z",
     "start_time": "2025-08-22T22:13:26.381433Z"
    }
   },
   "cell_type": "code",
   "source": [
    "text = \"\"\"Sachin Tendulkar was born on 24 April 1973, Virat Kholi was born on 5 November 1988, Dhoni was born on 7 July 1981\n",
    "and finally Ricky ponting was born on 19 December 1974.\"\"\"\n",
    "doc = nlp(text)\n",
    "s_virat=Span(doc,9,11,label=\"PERSON\")\n",
    "doc.set_ents([s_virat],default=\"unmodified\")\n",
    "names_dates=[]\n",
    "for ent in doc.ents:\n",
    "    names_dates.append(ent.text)\n",
    "merge_position=[(0,2),(2,4),(4,6),(6,8)]\n",
    "names_beside_date= [' : '.join(names_dates[start:end]) for start, end in merge_position]\n",
    "for i in names_beside_date:\n",
    "    print(i)"
   ],
   "id": "8a770ce39d481b6c",
   "outputs": [
    {
     "name": "stdout",
     "output_type": "stream",
     "text": [
      "Sachin Tendulkar : 24 April 1973\n",
      "Virat Kholi : 5 November 1988\n",
      "Dhoni : 7 July 1981\n",
      "Ricky : 19 December 1974\n",
      "0\n",
      "Sachin Tendulkar : 24 April 1973\n",
      "2\n",
      "Virat Kholi : 5 November 1988\n",
      "4\n",
      "Dhoni : 7 July 1981\n",
      "6\n",
      "Ricky : 19 December 1974\n"
     ]
    }
   ],
   "execution_count": 133
  },
  {
   "metadata": {
    "ExecuteTime": {
     "end_time": "2025-08-22T22:16:04.945603Z",
     "start_time": "2025-08-22T22:16:04.941862Z"
    }
   },
   "cell_type": "code",
   "source": [
    "def merge_by_n_elements(list,n):\n",
    "    for i in range(0,len(list),n):\n",
    "        j=i+n\n",
    "        print(\" : \".join(list[i:j]))"
   ],
   "id": "54c76bdc867957f0",
   "outputs": [],
   "execution_count": 134
  },
  {
   "metadata": {
    "ExecuteTime": {
     "end_time": "2025-08-22T22:31:32.496842Z",
     "start_time": "2025-08-22T22:31:32.490719Z"
    }
   },
   "cell_type": "code",
   "source": "merge_by_n_elements(names_dates,2)",
   "id": "2dbc978598ff853a",
   "outputs": [
    {
     "name": "stdout",
     "output_type": "stream",
     "text": [
      "Sachin Tendulkar : 24 April 1973\n",
      "Virat Kholi : 5 November 1988\n",
      "Dhoni : 7 July 1981\n",
      "Ricky : 19 December 1974\n"
     ]
    }
   ],
   "execution_count": 139
  },
  {
   "metadata": {
    "ExecuteTime": {
     "end_time": "2025-08-24T14:37:18.039515Z",
     "start_time": "2025-08-24T14:37:18.027567Z"
    }
   },
   "cell_type": "code",
   "source": [
    "#m\n",
    "print(\"hi\")"
   ],
   "id": "a72aeed51fe0d68a",
   "outputs": [
    {
     "name": "stdout",
     "output_type": "stream",
     "text": [
      "hi\n"
     ]
    }
   ],
   "execution_count": 1
  }
 ],
 "metadata": {
  "kernelspec": {
   "display_name": "Python 3",
   "language": "python",
   "name": "python3"
  },
  "language_info": {
   "codemirror_mode": {
    "name": "ipython",
    "version": 2
   },
   "file_extension": ".py",
   "mimetype": "text/x-python",
   "name": "python",
   "nbconvert_exporter": "python",
   "pygments_lexer": "ipython2",
   "version": "2.7.6"
  }
 },
 "nbformat": 4,
 "nbformat_minor": 5
}
